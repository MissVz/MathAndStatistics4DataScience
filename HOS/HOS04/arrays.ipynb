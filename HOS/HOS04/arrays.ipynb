{
 "cells": [
  {
   "cell_type": "markdown",
   "id": "4027211d",
   "metadata": {},
   "source": [
    "# HOS04 - Section 2: NumPy - Arrays"
   ]
  },
  {
   "cell_type": "code",
   "execution_count": 2,
   "id": "68f90b6e",
   "metadata": {},
   "outputs": [],
   "source": [
    "import numpy as np"
   ]
  },
  {
   "cell_type": "code",
   "execution_count": 5,
   "id": "3dce9b89",
   "metadata": {},
   "outputs": [
    {
     "name": "stdout",
     "output_type": "stream",
     "text": [
      "<class 'numpy.ndarray'>\n",
      "int32\n",
      "(3,)\n",
      "1 2 3\n",
      "[1 2 4]\n"
     ]
    }
   ],
   "source": [
    "# create rank 1 dim array\n",
    "arr = np.array([1, 2, 3])\n",
    "print(type(arr))             # outputs <class 'numpy.ndarray'>\n",
    "print(arr.dtype)             # outputs int64\n",
    "print(arr.shape)             # outputs (3,)\n",
    "print(arr[0], arr[1], arr[2])# outputs 1 2 3\n",
    "arr[2] = 4                   # change last element to 4\n",
    "print(arr)                   # outputs [1 2 4]"
   ]
  },
  {
   "cell_type": "code",
   "execution_count": 6,
   "id": "becb25fe",
   "metadata": {},
   "outputs": [
    {
     "name": "stdout",
     "output_type": "stream",
     "text": [
      "(2, 3)\n",
      "1 2 4\n",
      "[4 5 6]\n"
     ]
    }
   ],
   "source": [
    "# create rank 2 array\n",
    "arr2 = np.array([[1, 2, 3], [4, 5, 6]])\n",
    "print(arr2.shape)            # outputs (2, 3)\n",
    "print(arr2[0, 0], arr2[0, 1], arr2[1, 0])  # outputs 1 2 4\n",
    "print(arr2[-1])              # outputs last element [4 5 6]"
   ]
  },
  {
   "cell_type": "code",
   "execution_count": 7,
   "id": "83b68430",
   "metadata": {},
   "outputs": [
    {
     "name": "stdout",
     "output_type": "stream",
     "text": [
      "[[0. 0.]\n",
      " [0. 0.]]\n"
     ]
    }
   ],
   "source": [
    "# create an array of zeros with 2 dim and size of 2 each\n",
    "zero = np.zeros((2, 2))\n",
    "print(zero) "
   ]
  },
  {
   "cell_type": "code",
   "execution_count": 8,
   "id": "034c1780",
   "metadata": {},
   "outputs": [
    {
     "name": "stdout",
     "output_type": "stream",
     "text": [
      "[[1. 1.]]\n"
     ]
    }
   ],
   "source": [
    "# create an array of ones with 1 dim and size of 2 each\n",
    "one = np.ones((1, 2))\n",
    "print(one)  "
   ]
  },
  {
   "cell_type": "code",
   "execution_count": 9,
   "id": "e7c95d18",
   "metadata": {},
   "outputs": [
    {
     "name": "stdout",
     "output_type": "stream",
     "text": [
      "[[1. 0. 0.]\n",
      " [0. 1. 0.]\n",
      " [0. 0. 1.]]\n"
     ]
    }
   ],
   "source": [
    "# create a 2-D array with 1 on diagonal and 0 on others\n",
    "diag = np.eye(3)              # number of rows\n",
    "print(diag) "
   ]
  },
  {
   "cell_type": "code",
   "execution_count": 10,
   "id": "97348a68",
   "metadata": {},
   "outputs": [
    {
     "name": "stdout",
     "output_type": "stream",
     "text": [
      "[[0. 1. 0. 0.]\n",
      " [0. 0. 1. 0.]\n",
      " [0. 0. 0. 1.]\n",
      " [0. 0. 0. 0.]]\n"
     ]
    }
   ],
   "source": [
    "# diag starts at index 1\n",
    "diag = np.eye(4, k=1)\n",
    "print(diag) "
   ]
  },
  {
   "cell_type": "code",
   "execution_count": 11,
   "id": "effe5138",
   "metadata": {},
   "outputs": [
    {
     "name": "stdout",
     "output_type": "stream",
     "text": [
      "[[0.03459587 0.37743226]\n",
      " [0.66850324 0.77124335]]\n"
     ]
    }
   ],
   "source": [
    "# Create an array with random values\n",
    "rand = np.random.random((2, 2))\n",
    "print(rand)"
   ]
  },
  {
   "cell_type": "code",
   "execution_count": 12,
   "id": "b2590f9b",
   "metadata": {},
   "outputs": [
    {
     "name": "stdout",
     "output_type": "stream",
     "text": [
      "[0 2 4 6]\n"
     ]
    }
   ],
   "source": [
    "# Array indexing\n",
    "arr = np.arange(10)                  # generate array [0 1 2 3 4 5 6 7 8 9]\n",
    "print(arr[0:8:2])                    # every two number from 0 up to but not include 8"
   ]
  },
  {
   "cell_type": "code",
   "execution_count": 13,
   "id": "1cda8d23",
   "metadata": {},
   "outputs": [
    {
     "name": "stdout",
     "output_type": "stream",
     "text": [
      "[[1 2]\n",
      " [5 6]]\n"
     ]
    }
   ],
   "source": [
    "# create rank 2 with shape (3, 4) array\n",
    "arr = np.array([[1, 2, 3, 4], [5, 6, 7, 8], [9, 10, 11, 12]])\n",
    "print(arr[:2, :2])  "
   ]
  },
  {
   "cell_type": "code",
   "execution_count": 14,
   "id": "5c7c7456",
   "metadata": {},
   "outputs": [
    {
     "name": "stdout",
     "output_type": "stream",
     "text": [
      "[1 4 6]\n"
     ]
    }
   ],
   "source": [
    "# Integer indexing\n",
    "arr = np.array([[1, 2], [3, 4], [5, 6]])\n",
    "print(arr[[0, 1, 2], [0, 1, 1]])  "
   ]
  }
 ],
 "metadata": {
  "kernelspec": {
   "display_name": "base",
   "language": "python",
   "name": "python3"
  },
  "language_info": {
   "codemirror_mode": {
    "name": "ipython",
    "version": 3
   },
   "file_extension": ".py",
   "mimetype": "text/x-python",
   "name": "python",
   "nbconvert_exporter": "python",
   "pygments_lexer": "ipython3",
   "version": "3.11.9"
  }
 },
 "nbformat": 4,
 "nbformat_minor": 5
}
