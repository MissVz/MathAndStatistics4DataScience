{
 "cells": [
  {
   "cell_type": "markdown",
   "id": "bda5bb54",
   "metadata": {},
   "source": [
    "# HOS04 - Section 2: NumPy - Datatypes"
   ]
  },
  {
   "cell_type": "code",
   "execution_count": 1,
   "id": "ce1d8da9",
   "metadata": {},
   "outputs": [],
   "source": [
    "import numpy as np"
   ]
  },
  {
   "cell_type": "markdown",
   "id": "cfcb9e28",
   "metadata": {},
   "source": [
    "## Display how NumPy describes data types"
   ]
  },
  {
   "cell_type": "code",
   "execution_count": 2,
   "id": "09929b3f",
   "metadata": {},
   "outputs": [
    {
     "name": "stdout",
     "output_type": "stream",
     "text": [
      "Data Type Integer Info: int32\n"
     ]
    }
   ],
   "source": [
    "dt = np.array([1, 2])\n",
    "print(\"Data Type Integer Info:\", dt.dtype)"
   ]
  },
  {
   "cell_type": "code",
   "execution_count": 3,
   "id": "33cf28a6",
   "metadata": {},
   "outputs": [
    {
     "name": "stdout",
     "output_type": "stream",
     "text": [
      "Data Type Decimal Info: float64\n"
     ]
    }
   ],
   "source": [
    "dt = np.array([1.0, 2.0])\n",
    "print(\"Data Type Decimal Info:\", dt.dtype)"
   ]
  },
  {
   "cell_type": "code",
   "execution_count": 4,
   "id": "4a20a0df",
   "metadata": {},
   "outputs": [
    {
     "name": "stdout",
     "output_type": "stream",
     "text": [
      "Data Type Info: [1. 2.]\n",
      "Data Type Float Info: float64\n"
     ]
    }
   ],
   "source": [
    "dt = np.array([1,2], dtype=np.float64)\n",
    "print(\"Data Type Info:\", dt)\n",
    "print(\"Data Type Float Info:\", dt.dtype)"
   ]
  },
  {
   "cell_type": "markdown",
   "id": "1caf95c7",
   "metadata": {},
   "source": [
    "## Define a structured data type"
   ]
  },
  {
   "cell_type": "code",
   "execution_count": 5,
   "id": "59e162fc",
   "metadata": {},
   "outputs": [
    {
     "name": "stdout",
     "output_type": "stream",
     "text": [
      "[('name', '<U10'), ('age', '<i8'), ('points', '<f8')]\n"
     ]
    }
   ],
   "source": [
    "student = np.dtype([('name', np.str_, 10), ('age', np.int64), ('points', np.float64)])\n",
    "print(student)"
   ]
  },
  {
   "cell_type": "markdown",
   "id": "3f719b4a",
   "metadata": {},
   "source": [
    "## Create an ndarray object with the structured data type"
   ]
  },
  {
   "cell_type": "code",
   "execution_count": 6,
   "id": "ada5f358",
   "metadata": {},
   "outputs": [
    {
     "name": "stdout",
     "output_type": "stream",
     "text": [
      "[('student1', 20, 100.) ('student2wi', 22,  89.)]\n",
      "[('name', '<U10'), ('age', '<i8'), ('points', '<f8')]\n"
     ]
    }
   ],
   "source": [
    "ms_student = np.array([('student1', 20, 100), \n",
    "                       ('student2withlongname', 22, 89)],\n",
    "                      dtype=student)\n",
    "\n",
    "print(ms_student)\n",
    "print(ms_student.dtype)"
   ]
  }
 ],
 "metadata": {
  "kernelspec": {
   "display_name": "base",
   "language": "python",
   "name": "python3"
  },
  "language_info": {
   "codemirror_mode": {
    "name": "ipython",
    "version": 3
   },
   "file_extension": ".py",
   "mimetype": "text/x-python",
   "name": "python",
   "nbconvert_exporter": "python",
   "pygments_lexer": "ipython3",
   "version": "3.11.9"
  }
 },
 "nbformat": 4,
 "nbformat_minor": 5
}
