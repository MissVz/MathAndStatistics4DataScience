{
 "cells": [
  {
   "cell_type": "markdown",
   "id": "d54398ba",
   "metadata": {},
   "source": [
    "# CS506 HOS10A – Text Generation Using LSTM\n",
    "Topic: Automatic Text Generation using LSTM  \n",
    "Student: Verónica Elze"
   ]
  },
  {
   "cell_type": "markdown",
   "id": "4c4180a1",
   "metadata": {},
   "source": [
    "# === IMPORTS ==="
   ]
  },
  {
   "cell_type": "code",
   "execution_count": 1,
   "id": "6e926af7",
   "metadata": {},
   "outputs": [],
   "source": [
    "import os\n",
    "os.environ['TF_CPP_MIN_LOG_LEVEL'] = '2'\n",
    "os.environ['TF_ENABLE_ONEDNN_OPTS'] = '0'\n",
    "\n",
    "from keras.models import Sequential  # type: ignore\n",
    "from keras.layers import Input, Dense, Dropout, LSTM  # type: ignore\n",
    "from keras.optimizers import RMSprop  # type: ignore\n",
    "import numpy as np\n",
    "import random\n",
    "import sys\n",
    "from matplotlib import pyplot as plt"
   ]
  },
  {
   "cell_type": "markdown",
   "id": "fdbc30b3",
   "metadata": {},
   "source": [
    "# === LOAD DATA ==="
   ]
  },
  {
   "cell_type": "code",
   "execution_count": 2,
   "id": "114c6440",
   "metadata": {},
   "outputs": [
    {
     "name": "stdout",
     "output_type": "stream",
     "text": [
      "the project gutenberg ebook of trading with mexico\n",
      "    \n",
      "this ebook is for the use of anyone anywhere in the united states and\n",
      "most other parts of the world at no cost and with almost no restrictions\n",
      "whatsoever. you may copy it, give it away or re-use it under the terms\n",
      "of the project gutenberg license included with this ebook or online\n",
      "at www.gutenberg.org. if you are not located in the united states,\n",
      "you will have to check the laws of the country where you are located\n",
      "before using this ebook.\n",
      "\n",
      "title: trading with mexico\n",
      "\n",
      "author: wallace thompson\n",
      "\n",
      "release date: february 26, 2025 [ebook #75469]\n",
      "\n",
      "language: english\n",
      "\n",
      "original publication: new york: dodd, mead and company, 1921\n",
      "\n",
      "credits: the online distributed proofreading team at https://www.pgdp.net (this file was produced from images generously made available by the internet archive)\n",
      "\n",
      "\n",
      "*** start of the project gutenberg ebook trading with mexico ***\n",
      "\n",
      "\n",
      "\n",
      "\n",
      "\n",
      "                              trading with\n",
      "                                 mexico\n",
      "\n"
     ]
    }
   ],
   "source": [
    "filename = \"Trading with Mexico.txt\"\n",
    "raw_text = open(filename, 'r', encoding='utf-8').read()\n",
    "raw_text = raw_text.lower()\n",
    "print(raw_text[0:1000])"
   ]
  },
  {
   "cell_type": "markdown",
   "id": "8c431c6c",
   "metadata": {},
   "source": [
    "# === CLEAN DATA ==="
   ]
  },
  {
   "cell_type": "code",
   "execution_count": 3,
   "id": "1acad78b",
   "metadata": {},
   "outputs": [],
   "source": [
    "raw_text = ''.join(c for c in raw_text if not c.isdigit())\n",
    "chars = sorted(list(set(raw_text)))  # List of every character"
   ]
  },
  {
   "cell_type": "markdown",
   "id": "2bf7a39a",
   "metadata": {},
   "source": [
    "# === CHARACTER MAPPING ==="
   ]
  },
  {
   "cell_type": "code",
   "execution_count": 4,
   "id": "baf26342",
   "metadata": {},
   "outputs": [],
   "source": [
    "char_to_int = dict((c, i) for i, c in enumerate(chars))\n",
    "int_to_char = dict((i, c) for i, c in enumerate(chars))"
   ]
  },
  {
   "cell_type": "markdown",
   "id": "e560bda1",
   "metadata": {},
   "source": [
    "# === CHARACTER COUNTS ==="
   ]
  },
  {
   "cell_type": "code",
   "execution_count": 5,
   "id": "078c95bc",
   "metadata": {},
   "outputs": [
    {
     "name": "stdout",
     "output_type": "stream",
     "text": [
      "Total Characters in the text; corpus length: 387019\n",
      "Total Vocab:  63\n"
     ]
    }
   ],
   "source": [
    "n_chars = len(raw_text)\n",
    "n_vocab = len(chars)\n",
    "print(\"Total Characters in the text; corpus length:\", n_chars)\n",
    "print(\"Total Vocab: \", n_vocab)"
   ]
  },
  {
   "cell_type": "markdown",
   "id": "490aa5ad",
   "metadata": {},
   "source": [
    "# === CREATE SEQUENCES ==="
   ]
  },
  {
   "cell_type": "code",
   "execution_count": 6,
   "id": "c54624a5",
   "metadata": {},
   "outputs": [
    {
     "name": "stdout",
     "output_type": "stream",
     "text": [
      "Number of sequences: 38696\n"
     ]
    }
   ],
   "source": [
    "seq_length = 60  # Length of each input sequence\n",
    "step = 10  # Instead of moving 1 letter at a time, try skipping a few.\n",
    "sentences = []  # X values (Sentences)\n",
    "next_chars = []  # Y values. The character that follows the sentence defined as X\n",
    "\n",
    "for i in range(0, n_chars - seq_length, step):  # step=1 means each sentence is offset just by a single letter\n",
    "    sentences.append(raw_text[i: i + seq_length])  # Sequence in\n",
    "    next_chars.append(raw_text[i + seq_length])  # Sequence out\n",
    "\n",
    "n_patterns = len(sentences)\n",
    "print('Number of sequences:', n_patterns)"
   ]
  },
  {
   "cell_type": "markdown",
   "id": "aa6c5ce8",
   "metadata": {},
   "source": [
    "# === VECTORIZATION ==="
   ]
  },
  {
   "cell_type": "code",
   "execution_count": 7,
   "id": "f8429d20",
   "metadata": {},
   "outputs": [
    {
     "name": "stdout",
     "output_type": "stream",
     "text": [
      "(38696, 60, 63)\n",
      "(38696, 63)\n",
      "[[False False False False False False False False False False False False\n",
      "  False False False False False False False False False False False False\n",
      "  False False False False False False False False False False False False\n",
      "  False False  True False False False False False False False False False\n",
      "  False False False False False False False False False False False False\n",
      "  False False False]\n",
      " [False  True False False False False False False False False False False\n",
      "  False False False False False False False False False False False False\n",
      "  False False False False False False False False False False False False\n",
      "  False False False False False False False False False False False False\n",
      "  False False False False False False False False False False False False\n",
      "  False False False]\n",
      " [False False False False False False False False False False False False\n",
      "  False False False False False False False False False False False False\n",
      "  False False False False False False False False False False False False\n",
      "  False False  True False False False False False False False False False\n",
      "  False False False False False False False False False False False False\n",
      "  False False False]\n",
      " [False False False False False False False False False False False False\n",
      "  False False False False False False False False False False False False\n",
      "  False False False False False False False False False  True False False\n",
      "  False False False False False False False False False False False False\n",
      "  False False False False False False False False False False False False\n",
      "  False False False]\n",
      " [False False False False False False False False False False False False\n",
      "  False False False False False False False False False False False False\n",
      "   True False False False False False False False False False False False\n",
      "  False False False False False False False False False False False False\n",
      "  False False False False False False False False False False False False\n",
      "  False False False]\n",
      " [False False False False False False False False False False False False\n",
      "  False False False False False False False False False False False False\n",
      "  False False False False False False False False False  True False False\n",
      "  False False False False False False False False False False False False\n",
      "  False False False False False False False False False False False False\n",
      "  False False False]\n",
      " [False False False False False False False False False False False False\n",
      "  False False False False False False False False False False False False\n",
      "   True False False False False False False False False False False False\n",
      "  False False False False False False False False False False False False\n",
      "  False False False False False False False False False False False False\n",
      "  False False False]\n",
      " [False False False False False False False False False False False False\n",
      "  False False False False False False False False False False False False\n",
      "  False False False False False False False False False False False False\n",
      "  False False False  True False False False False False False False False\n",
      "  False False False False False False False False False False False False\n",
      "  False False False]\n",
      " [False False False False False False False False False False False False\n",
      "  False False False False False False False False False False False False\n",
      "  False False False False False False False False False False False False\n",
      "  False  True False False False False False False False False False False\n",
      "  False False False False False False False False False False False False\n",
      "  False False False]\n",
      " [False  True False False False False False False False False False False\n",
      "  False False False False False False False False False False False False\n",
      "  False False False False False False False False False False False False\n",
      "  False False False False False False False False False False False False\n",
      "  False False False False False False False False False False False False\n",
      "  False False False]]\n"
     ]
    }
   ],
   "source": [
    "x = np.zeros((len(sentences), seq_length, n_vocab), dtype=np.bool_)\n",
    "y = np.zeros((len(sentences), n_vocab), dtype=np.bool_)\n",
    "for i, sentence in enumerate(sentences):\n",
    "    for t, char in enumerate(sentence):\n",
    "        x[i, t, char_to_int[char]] = 1\n",
    "    y[i, char_to_int[next_chars[i]]] = 1\n",
    "\n",
    "print(x.shape)\n",
    "print(y.shape)\n",
    "print(y[0:10])"
   ]
  },
  {
   "cell_type": "markdown",
   "id": "95c52392",
   "metadata": {},
   "source": [
    "# === MODEL BUILDING ==="
   ]
  },
  {
   "cell_type": "code",
   "execution_count": 8,
   "id": "0a8df5c7",
   "metadata": {},
   "outputs": [
    {
     "data": {
      "text/html": [
       "<pre style=\"white-space:pre;overflow-x:auto;line-height:normal;font-family:Menlo,'DejaVu Sans Mono',consolas,'Courier New',monospace\"><span style=\"font-weight: bold\">Model: \"sequential\"</span>\n",
       "</pre>\n"
      ],
      "text/plain": [
       "\u001b[1mModel: \"sequential\"\u001b[0m\n"
      ]
     },
     "metadata": {},
     "output_type": "display_data"
    },
    {
     "data": {
      "text/html": [
       "<pre style=\"white-space:pre;overflow-x:auto;line-height:normal;font-family:Menlo,'DejaVu Sans Mono',consolas,'Courier New',monospace\">┏━━━━━━━━━━━━━━━━━━━━━━━━━━━━━━━━━┳━━━━━━━━━━━━━━━━━━━━━━━━┳━━━━━━━━━━━━━━━┓\n",
       "┃<span style=\"font-weight: bold\"> Layer (type)                    </span>┃<span style=\"font-weight: bold\"> Output Shape           </span>┃<span style=\"font-weight: bold\">       Param # </span>┃\n",
       "┡━━━━━━━━━━━━━━━━━━━━━━━━━━━━━━━━━╇━━━━━━━━━━━━━━━━━━━━━━━━╇━━━━━━━━━━━━━━━┩\n",
       "│ lstm (<span style=\"color: #0087ff; text-decoration-color: #0087ff\">LSTM</span>)                     │ (<span style=\"color: #00d7ff; text-decoration-color: #00d7ff\">None</span>, <span style=\"color: #00af00; text-decoration-color: #00af00\">128</span>)            │        <span style=\"color: #00af00; text-decoration-color: #00af00\">98,304</span> │\n",
       "├─────────────────────────────────┼────────────────────────┼───────────────┤\n",
       "│ dense (<span style=\"color: #0087ff; text-decoration-color: #0087ff\">Dense</span>)                   │ (<span style=\"color: #00d7ff; text-decoration-color: #00d7ff\">None</span>, <span style=\"color: #00af00; text-decoration-color: #00af00\">63</span>)             │         <span style=\"color: #00af00; text-decoration-color: #00af00\">8,127</span> │\n",
       "└─────────────────────────────────┴────────────────────────┴───────────────┘\n",
       "</pre>\n"
      ],
      "text/plain": [
       "┏━━━━━━━━━━━━━━━━━━━━━━━━━━━━━━━━━┳━━━━━━━━━━━━━━━━━━━━━━━━┳━━━━━━━━━━━━━━━┓\n",
       "┃\u001b[1m \u001b[0m\u001b[1mLayer (type)                   \u001b[0m\u001b[1m \u001b[0m┃\u001b[1m \u001b[0m\u001b[1mOutput Shape          \u001b[0m\u001b[1m \u001b[0m┃\u001b[1m \u001b[0m\u001b[1m      Param #\u001b[0m\u001b[1m \u001b[0m┃\n",
       "┡━━━━━━━━━━━━━━━━━━━━━━━━━━━━━━━━━╇━━━━━━━━━━━━━━━━━━━━━━━━╇━━━━━━━━━━━━━━━┩\n",
       "│ lstm (\u001b[38;5;33mLSTM\u001b[0m)                     │ (\u001b[38;5;45mNone\u001b[0m, \u001b[38;5;34m128\u001b[0m)            │        \u001b[38;5;34m98,304\u001b[0m │\n",
       "├─────────────────────────────────┼────────────────────────┼───────────────┤\n",
       "│ dense (\u001b[38;5;33mDense\u001b[0m)                   │ (\u001b[38;5;45mNone\u001b[0m, \u001b[38;5;34m63\u001b[0m)             │         \u001b[38;5;34m8,127\u001b[0m │\n",
       "└─────────────────────────────────┴────────────────────────┴───────────────┘\n"
      ]
     },
     "metadata": {},
     "output_type": "display_data"
    },
    {
     "data": {
      "text/html": [
       "<pre style=\"white-space:pre;overflow-x:auto;line-height:normal;font-family:Menlo,'DejaVu Sans Mono',consolas,'Courier New',monospace\"><span style=\"font-weight: bold\"> Total params: </span><span style=\"color: #00af00; text-decoration-color: #00af00\">106,431</span> (415.75 KB)\n",
       "</pre>\n"
      ],
      "text/plain": [
       "\u001b[1m Total params: \u001b[0m\u001b[38;5;34m106,431\u001b[0m (415.75 KB)\n"
      ]
     },
     "metadata": {},
     "output_type": "display_data"
    },
    {
     "data": {
      "text/html": [
       "<pre style=\"white-space:pre;overflow-x:auto;line-height:normal;font-family:Menlo,'DejaVu Sans Mono',consolas,'Courier New',monospace\"><span style=\"font-weight: bold\"> Trainable params: </span><span style=\"color: #00af00; text-decoration-color: #00af00\">106,431</span> (415.75 KB)\n",
       "</pre>\n"
      ],
      "text/plain": [
       "\u001b[1m Trainable params: \u001b[0m\u001b[38;5;34m106,431\u001b[0m (415.75 KB)\n"
      ]
     },
     "metadata": {},
     "output_type": "display_data"
    },
    {
     "data": {
      "text/html": [
       "<pre style=\"white-space:pre;overflow-x:auto;line-height:normal;font-family:Menlo,'DejaVu Sans Mono',consolas,'Courier New',monospace\"><span style=\"font-weight: bold\"> Non-trainable params: </span><span style=\"color: #00af00; text-decoration-color: #00af00\">0</span> (0.00 B)\n",
       "</pre>\n"
      ],
      "text/plain": [
       "\u001b[1m Non-trainable params: \u001b[0m\u001b[38;5;34m0\u001b[0m (0.00 B)\n"
      ]
     },
     "metadata": {},
     "output_type": "display_data"
    }
   ],
   "source": [
    "# model = Sequential()\n",
    "# model.add(LSTM(128, input_shape=(seq_length, n_vocab)))\n",
    "# model.add(Dense(n_vocab, activation='softmax'))\n",
    "model = Sequential()\n",
    "model.add(Input(shape=(seq_length, n_vocab)))\n",
    "model.add(LSTM(128))\n",
    "model.add(Dense(n_vocab, activation='softmax'))\n",
    "\n",
    "optimizer = RMSprop(learning_rate=0.01)\n",
    "model.compile(loss='categorical_crossentropy', optimizer=optimizer)\n",
    "model.summary()"
   ]
  },
  {
   "cell_type": "markdown",
   "id": "49f887da",
   "metadata": {},
   "source": [
    "# === CHECKPOINT CALLBACK ==="
   ]
  },
  {
   "cell_type": "code",
   "execution_count": 9,
   "id": "3681b4cb",
   "metadata": {},
   "outputs": [],
   "source": [
    "from keras.callbacks import ModelCheckpoint\n",
    "filepath = \"saved_weights-{epoch:02d}-{loss:.4f}.keras\"\n",
    "checkpoint = ModelCheckpoint(filepath, monitor='loss', verbose=1, save_best_only=True, mode='min')\n",
    "callbacks_list = [checkpoint]"
   ]
  },
  {
   "cell_type": "markdown",
   "id": "3c5227f5",
   "metadata": {},
   "source": [
    "# === FIT THE MODEL ==="
   ]
  },
  {
   "cell_type": "code",
   "execution_count": 10,
   "id": "36fc195f",
   "metadata": {},
   "outputs": [
    {
     "name": "stdout",
     "output_type": "stream",
     "text": [
      "Epoch 1/50\n",
      "\u001b[1m302/303\u001b[0m \u001b[32m━━━━━━━━━━━━━━━━━━━\u001b[0m\u001b[37m━\u001b[0m \u001b[1m0s\u001b[0m 89ms/step - loss: 2.7829\n",
      "Epoch 1: loss improved from inf to 2.47737, saving model to saved_weights-01-2.4774.keras\n",
      "\u001b[1m303/303\u001b[0m \u001b[32m━━━━━━━━━━━━━━━━━━━━\u001b[0m\u001b[37m\u001b[0m \u001b[1m28s\u001b[0m 89ms/step - loss: 2.7809\n",
      "Epoch 2/50\n",
      "\u001b[1m302/303\u001b[0m \u001b[32m━━━━━━━━━━━━━━━━━━━\u001b[0m\u001b[37m━\u001b[0m \u001b[1m0s\u001b[0m 92ms/step - loss: 2.0712\n",
      "Epoch 2: loss improved from 2.47737 to 2.00996, saving model to saved_weights-02-2.0100.keras\n",
      "\u001b[1m303/303\u001b[0m \u001b[32m━━━━━━━━━━━━━━━━━━━━\u001b[0m\u001b[37m\u001b[0m \u001b[1m28s\u001b[0m 92ms/step - loss: 2.0708\n",
      "Epoch 3/50\n",
      "\u001b[1m302/303\u001b[0m \u001b[32m━━━━━━━━━━━━━━━━━━━\u001b[0m\u001b[37m━\u001b[0m \u001b[1m0s\u001b[0m 90ms/step - loss: 1.8316\n",
      "Epoch 3: loss improved from 2.00996 to 1.82298, saving model to saved_weights-03-1.8230.keras\n",
      "\u001b[1m303/303\u001b[0m \u001b[32m━━━━━━━━━━━━━━━━━━━━\u001b[0m\u001b[37m\u001b[0m \u001b[1m27s\u001b[0m 90ms/step - loss: 1.8315\n",
      "Epoch 4/50\n",
      "\u001b[1m302/303\u001b[0m \u001b[32m━━━━━━━━━━━━━━━━━━━\u001b[0m\u001b[37m━\u001b[0m \u001b[1m0s\u001b[0m 92ms/step - loss: 1.6955\n",
      "Epoch 4: loss improved from 1.82298 to 1.68921, saving model to saved_weights-04-1.6892.keras\n",
      "\u001b[1m303/303\u001b[0m \u001b[32m━━━━━━━━━━━━━━━━━━━━\u001b[0m\u001b[37m\u001b[0m \u001b[1m28s\u001b[0m 92ms/step - loss: 1.6955\n",
      "Epoch 5/50\n",
      "\u001b[1m302/303\u001b[0m \u001b[32m━━━━━━━━━━━━━━━━━━━\u001b[0m\u001b[37m━\u001b[0m \u001b[1m0s\u001b[0m 91ms/step - loss: 1.5718\n",
      "Epoch 5: loss improved from 1.68921 to 1.58389, saving model to saved_weights-05-1.5839.keras\n",
      "\u001b[1m303/303\u001b[0m \u001b[32m━━━━━━━━━━━━━━━━━━━━\u001b[0m\u001b[37m\u001b[0m \u001b[1m28s\u001b[0m 91ms/step - loss: 1.5719\n",
      "Epoch 6/50\n",
      "\u001b[1m303/303\u001b[0m \u001b[32m━━━━━━━━━━━━━━━━━━━━\u001b[0m\u001b[37m\u001b[0m \u001b[1m0s\u001b[0m 94ms/step - loss: 1.4636\n",
      "Epoch 6: loss improved from 1.58389 to 1.49511, saving model to saved_weights-06-1.4951.keras\n",
      "\u001b[1m303/303\u001b[0m \u001b[32m━━━━━━━━━━━━━━━━━━━━\u001b[0m\u001b[37m\u001b[0m \u001b[1m29s\u001b[0m 94ms/step - loss: 1.4637\n",
      "Epoch 7/50\n",
      "\u001b[1m302/303\u001b[0m \u001b[32m━━━━━━━━━━━━━━━━━━━\u001b[0m\u001b[37m━\u001b[0m \u001b[1m0s\u001b[0m 95ms/step - loss: 1.3837\n",
      "Epoch 7: loss improved from 1.49511 to 1.41309, saving model to saved_weights-07-1.4131.keras\n",
      "\u001b[1m303/303\u001b[0m \u001b[32m━━━━━━━━━━━━━━━━━━━━\u001b[0m\u001b[37m\u001b[0m \u001b[1m29s\u001b[0m 95ms/step - loss: 1.3839\n",
      "Epoch 8/50\n",
      "\u001b[1m302/303\u001b[0m \u001b[32m━━━━━━━━━━━━━━━━━━━\u001b[0m\u001b[37m━\u001b[0m \u001b[1m0s\u001b[0m 96ms/step - loss: 1.3096\n",
      "Epoch 8: loss improved from 1.41309 to 1.34506, saving model to saved_weights-08-1.3451.keras\n",
      "\u001b[1m303/303\u001b[0m \u001b[32m━━━━━━━━━━━━━━━━━━━━\u001b[0m\u001b[37m\u001b[0m \u001b[1m29s\u001b[0m 96ms/step - loss: 1.3099\n",
      "Epoch 9/50\n",
      "\u001b[1m302/303\u001b[0m \u001b[32m━━━━━━━━━━━━━━━━━━━\u001b[0m\u001b[37m━\u001b[0m \u001b[1m0s\u001b[0m 96ms/step - loss: 1.2601\n",
      "Epoch 9: loss improved from 1.34506 to 1.29148, saving model to saved_weights-09-1.2915.keras\n",
      "\u001b[1m303/303\u001b[0m \u001b[32m━━━━━━━━━━━━━━━━━━━━\u001b[0m\u001b[37m\u001b[0m \u001b[1m29s\u001b[0m 96ms/step - loss: 1.2603\n",
      "Epoch 10/50\n",
      "\u001b[1m303/303\u001b[0m \u001b[32m━━━━━━━━━━━━━━━━━━━━\u001b[0m\u001b[37m\u001b[0m \u001b[1m0s\u001b[0m 127ms/step - loss: 1.1947\n",
      "Epoch 10: loss improved from 1.29148 to 1.24365, saving model to saved_weights-10-1.2436.keras\n",
      "\u001b[1m303/303\u001b[0m \u001b[32m━━━━━━━━━━━━━━━━━━━━\u001b[0m\u001b[37m\u001b[0m \u001b[1m39s\u001b[0m 127ms/step - loss: 1.1949\n",
      "Epoch 11/50\n",
      "\u001b[1m302/303\u001b[0m \u001b[32m━━━━━━━━━━━━━━━━━━━\u001b[0m\u001b[37m━\u001b[0m \u001b[1m0s\u001b[0m 130ms/step - loss: 1.1697\n",
      "Epoch 11: loss improved from 1.24365 to 1.20247, saving model to saved_weights-11-1.2025.keras\n",
      "\u001b[1m303/303\u001b[0m \u001b[32m━━━━━━━━━━━━━━━━━━━━\u001b[0m\u001b[37m\u001b[0m \u001b[1m40s\u001b[0m 130ms/step - loss: 1.1699\n",
      "Epoch 12/50\n",
      "\u001b[1m302/303\u001b[0m \u001b[32m━━━━━━━━━━━━━━━━━━━\u001b[0m\u001b[37m━\u001b[0m \u001b[1m0s\u001b[0m 102ms/step - loss: 1.1224\n",
      "Epoch 12: loss improved from 1.20247 to 1.16668, saving model to saved_weights-12-1.1667.keras\n",
      "\u001b[1m303/303\u001b[0m \u001b[32m━━━━━━━━━━━━━━━━━━━━\u001b[0m\u001b[37m\u001b[0m \u001b[1m31s\u001b[0m 102ms/step - loss: 1.1227\n",
      "Epoch 13/50\n",
      "\u001b[1m302/303\u001b[0m \u001b[32m━━━━━━━━━━━━━━━━━━━\u001b[0m\u001b[37m━\u001b[0m \u001b[1m0s\u001b[0m 107ms/step - loss: 1.0994\n",
      "Epoch 13: loss improved from 1.16668 to 1.13853, saving model to saved_weights-13-1.1385.keras\n",
      "\u001b[1m303/303\u001b[0m \u001b[32m━━━━━━━━━━━━━━━━━━━━\u001b[0m\u001b[37m\u001b[0m \u001b[1m32s\u001b[0m 107ms/step - loss: 1.0997\n",
      "Epoch 14/50\n",
      "\u001b[1m302/303\u001b[0m \u001b[32m━━━━━━━━━━━━━━━━━━━\u001b[0m\u001b[37m━\u001b[0m \u001b[1m0s\u001b[0m 102ms/step - loss: 1.0635\n",
      "Epoch 14: loss improved from 1.13853 to 1.10763, saving model to saved_weights-14-1.1076.keras\n",
      "\u001b[1m303/303\u001b[0m \u001b[32m━━━━━━━━━━━━━━━━━━━━\u001b[0m\u001b[37m\u001b[0m \u001b[1m31s\u001b[0m 102ms/step - loss: 1.0637\n",
      "Epoch 15/50\n",
      "\u001b[1m302/303\u001b[0m \u001b[32m━━━━━━━━━━━━━━━━━━━\u001b[0m\u001b[37m━\u001b[0m \u001b[1m0s\u001b[0m 102ms/step - loss: 1.0568\n",
      "Epoch 15: loss improved from 1.10763 to 1.09531, saving model to saved_weights-15-1.0953.keras\n",
      "\u001b[1m303/303\u001b[0m \u001b[32m━━━━━━━━━━━━━━━━━━━━\u001b[0m\u001b[37m\u001b[0m \u001b[1m31s\u001b[0m 102ms/step - loss: 1.0570\n",
      "Epoch 16/50\n",
      "\u001b[1m302/303\u001b[0m \u001b[32m━━━━━━━━━━━━━━━━━━━\u001b[0m\u001b[37m━\u001b[0m \u001b[1m0s\u001b[0m 103ms/step - loss: 1.0215\n",
      "Epoch 16: loss improved from 1.09531 to 1.07075, saving model to saved_weights-16-1.0708.keras\n",
      "\u001b[1m303/303\u001b[0m \u001b[32m━━━━━━━━━━━━━━━━━━━━\u001b[0m\u001b[37m\u001b[0m \u001b[1m31s\u001b[0m 103ms/step - loss: 1.0218\n",
      "Epoch 17/50\n",
      "\u001b[1m302/303\u001b[0m \u001b[32m━━━━━━━━━━━━━━━━━━━\u001b[0m\u001b[37m━\u001b[0m \u001b[1m0s\u001b[0m 104ms/step - loss: 1.0231\n",
      "Epoch 17: loss improved from 1.07075 to 1.06428, saving model to saved_weights-17-1.0643.keras\n",
      "\u001b[1m303/303\u001b[0m \u001b[32m━━━━━━━━━━━━━━━━━━━━\u001b[0m\u001b[37m\u001b[0m \u001b[1m32s\u001b[0m 104ms/step - loss: 1.0234\n",
      "Epoch 18/50\n",
      "\u001b[1m302/303\u001b[0m \u001b[32m━━━━━━━━━━━━━━━━━━━\u001b[0m\u001b[37m━\u001b[0m \u001b[1m0s\u001b[0m 103ms/step - loss: 1.0012\n",
      "Epoch 18: loss improved from 1.06428 to 1.04311, saving model to saved_weights-18-1.0431.keras\n",
      "\u001b[1m303/303\u001b[0m \u001b[32m━━━━━━━━━━━━━━━━━━━━\u001b[0m\u001b[37m\u001b[0m \u001b[1m31s\u001b[0m 103ms/step - loss: 1.0015\n",
      "Epoch 19/50\n",
      "\u001b[1m302/303\u001b[0m \u001b[32m━━━━━━━━━━━━━━━━━━━\u001b[0m\u001b[37m━\u001b[0m \u001b[1m0s\u001b[0m 103ms/step - loss: 0.9865\n",
      "Epoch 19: loss improved from 1.04311 to 1.02839, saving model to saved_weights-19-1.0284.keras\n",
      "\u001b[1m303/303\u001b[0m \u001b[32m━━━━━━━━━━━━━━━━━━━━\u001b[0m\u001b[37m\u001b[0m \u001b[1m31s\u001b[0m 103ms/step - loss: 0.9868\n",
      "Epoch 20/50\n",
      "\u001b[1m302/303\u001b[0m \u001b[32m━━━━━━━━━━━━━━━━━━━\u001b[0m\u001b[37m━\u001b[0m \u001b[1m0s\u001b[0m 105ms/step - loss: 0.9718\n",
      "Epoch 20: loss improved from 1.02839 to 1.01891, saving model to saved_weights-20-1.0189.keras\n",
      "\u001b[1m303/303\u001b[0m \u001b[32m━━━━━━━━━━━━━━━━━━━━\u001b[0m\u001b[37m\u001b[0m \u001b[1m32s\u001b[0m 105ms/step - loss: 0.9721\n",
      "Epoch 21/50\n",
      "\u001b[1m302/303\u001b[0m \u001b[32m━━━━━━━━━━━━━━━━━━━\u001b[0m\u001b[37m━\u001b[0m \u001b[1m0s\u001b[0m 102ms/step - loss: 0.9577\n",
      "Epoch 21: loss improved from 1.01891 to 0.99823, saving model to saved_weights-21-0.9982.keras\n",
      "\u001b[1m303/303\u001b[0m \u001b[32m━━━━━━━━━━━━━━━━━━━━\u001b[0m\u001b[37m\u001b[0m \u001b[1m31s\u001b[0m 102ms/step - loss: 0.9580\n",
      "Epoch 22/50\n",
      "\u001b[1m303/303\u001b[0m \u001b[32m━━━━━━━━━━━━━━━━━━━━\u001b[0m\u001b[37m\u001b[0m \u001b[1m0s\u001b[0m 158ms/step - loss: 0.9419\n",
      "Epoch 22: loss improved from 0.99823 to 0.99247, saving model to saved_weights-22-0.9925.keras\n",
      "\u001b[1m303/303\u001b[0m \u001b[32m━━━━━━━━━━━━━━━━━━━━\u001b[0m\u001b[37m\u001b[0m \u001b[1m48s\u001b[0m 158ms/step - loss: 0.9421\n",
      "Epoch 23/50\n",
      "\u001b[1m303/303\u001b[0m \u001b[32m━━━━━━━━━━━━━━━━━━━━\u001b[0m\u001b[37m\u001b[0m \u001b[1m0s\u001b[0m 110ms/step - loss: 0.9299\n",
      "Epoch 23: loss improved from 0.99247 to 0.97823, saving model to saved_weights-23-0.9782.keras\n",
      "\u001b[1m303/303\u001b[0m \u001b[32m━━━━━━━━━━━━━━━━━━━━\u001b[0m\u001b[37m\u001b[0m \u001b[1m34s\u001b[0m 110ms/step - loss: 0.9300\n",
      "Epoch 24/50\n",
      "\u001b[1m303/303\u001b[0m \u001b[32m━━━━━━━━━━━━━━━━━━━━\u001b[0m\u001b[37m\u001b[0m \u001b[1m0s\u001b[0m 105ms/step - loss: 0.9233\n",
      "Epoch 24: loss improved from 0.97823 to 0.96968, saving model to saved_weights-24-0.9697.keras\n",
      "\u001b[1m303/303\u001b[0m \u001b[32m━━━━━━━━━━━━━━━━━━━━\u001b[0m\u001b[37m\u001b[0m \u001b[1m32s\u001b[0m 105ms/step - loss: 0.9235\n",
      "Epoch 25/50\n",
      "\u001b[1m303/303\u001b[0m \u001b[32m━━━━━━━━━━━━━━━━━━━━\u001b[0m\u001b[37m\u001b[0m \u001b[1m0s\u001b[0m 120ms/step - loss: 0.9186\n",
      "Epoch 25: loss improved from 0.96968 to 0.96604, saving model to saved_weights-25-0.9660.keras\n",
      "\u001b[1m303/303\u001b[0m \u001b[32m━━━━━━━━━━━━━━━━━━━━\u001b[0m\u001b[37m\u001b[0m \u001b[1m37s\u001b[0m 120ms/step - loss: 0.9188\n",
      "Epoch 26/50\n",
      "\u001b[1m302/303\u001b[0m \u001b[32m━━━━━━━━━━━━━━━━━━━\u001b[0m\u001b[37m━\u001b[0m \u001b[1m0s\u001b[0m 110ms/step - loss: 0.9168\n",
      "Epoch 26: loss improved from 0.96604 to 0.95441, saving model to saved_weights-26-0.9544.keras\n",
      "\u001b[1m303/303\u001b[0m \u001b[32m━━━━━━━━━━━━━━━━━━━━\u001b[0m\u001b[37m\u001b[0m \u001b[1m33s\u001b[0m 110ms/step - loss: 0.9170\n",
      "Epoch 27/50\n",
      "\u001b[1m303/303\u001b[0m \u001b[32m━━━━━━━━━━━━━━━━━━━━\u001b[0m\u001b[37m\u001b[0m \u001b[1m0s\u001b[0m 107ms/step - loss: 0.8895\n",
      "Epoch 27: loss improved from 0.95441 to 0.94091, saving model to saved_weights-27-0.9409.keras\n",
      "\u001b[1m303/303\u001b[0m \u001b[32m━━━━━━━━━━━━━━━━━━━━\u001b[0m\u001b[37m\u001b[0m \u001b[1m32s\u001b[0m 107ms/step - loss: 0.8896\n",
      "Epoch 28/50\n",
      "\u001b[1m302/303\u001b[0m \u001b[32m━━━━━━━━━━━━━━━━━━━\u001b[0m\u001b[37m━\u001b[0m \u001b[1m0s\u001b[0m 106ms/step - loss: 0.8934\n",
      "Epoch 28: loss did not improve from 0.94091\n",
      "\u001b[1m303/303\u001b[0m \u001b[32m━━━━━━━━━━━━━━━━━━━━\u001b[0m\u001b[37m\u001b[0m \u001b[1m32s\u001b[0m 106ms/step - loss: 0.8938\n",
      "Epoch 29/50\n",
      "\u001b[1m302/303\u001b[0m \u001b[32m━━━━━━━━━━━━━━━━━━━\u001b[0m\u001b[37m━\u001b[0m \u001b[1m0s\u001b[0m 105ms/step - loss: 0.8837\n",
      "Epoch 29: loss improved from 0.94091 to 0.93027, saving model to saved_weights-29-0.9303.keras\n",
      "\u001b[1m303/303\u001b[0m \u001b[32m━━━━━━━━━━━━━━━━━━━━\u001b[0m\u001b[37m\u001b[0m \u001b[1m32s\u001b[0m 105ms/step - loss: 0.8841\n",
      "Epoch 30/50\n",
      "\u001b[1m302/303\u001b[0m \u001b[32m━━━━━━━━━━━━━━━━━━━\u001b[0m\u001b[37m━\u001b[0m \u001b[1m0s\u001b[0m 104ms/step - loss: 0.8813\n",
      "Epoch 30: loss improved from 0.93027 to 0.92258, saving model to saved_weights-30-0.9226.keras\n",
      "\u001b[1m303/303\u001b[0m \u001b[32m━━━━━━━━━━━━━━━━━━━━\u001b[0m\u001b[37m\u001b[0m \u001b[1m31s\u001b[0m 104ms/step - loss: 0.8816\n",
      "Epoch 31/50\n",
      "\u001b[1m302/303\u001b[0m \u001b[32m━━━━━━━━━━━━━━━━━━━\u001b[0m\u001b[37m━\u001b[0m \u001b[1m0s\u001b[0m 104ms/step - loss: 0.8772\n",
      "Epoch 31: loss improved from 0.92258 to 0.91734, saving model to saved_weights-31-0.9173.keras\n",
      "\u001b[1m303/303\u001b[0m \u001b[32m━━━━━━━━━━━━━━━━━━━━\u001b[0m\u001b[37m\u001b[0m \u001b[1m32s\u001b[0m 104ms/step - loss: 0.8774\n",
      "Epoch 32/50\n",
      "\u001b[1m303/303\u001b[0m \u001b[32m━━━━━━━━━━━━━━━━━━━━\u001b[0m\u001b[37m\u001b[0m \u001b[1m0s\u001b[0m 104ms/step - loss: 0.8570\n",
      "Epoch 32: loss improved from 0.91734 to 0.90921, saving model to saved_weights-32-0.9092.keras\n",
      "\u001b[1m303/303\u001b[0m \u001b[32m━━━━━━━━━━━━━━━━━━━━\u001b[0m\u001b[37m\u001b[0m \u001b[1m32s\u001b[0m 105ms/step - loss: 0.8572\n",
      "Epoch 33/50\n",
      "\u001b[1m303/303\u001b[0m \u001b[32m━━━━━━━━━━━━━━━━━━━━\u001b[0m\u001b[37m\u001b[0m \u001b[1m0s\u001b[0m 117ms/step - loss: 0.8637\n",
      "Epoch 33: loss improved from 0.90921 to 0.90441, saving model to saved_weights-33-0.9044.keras\n",
      "\u001b[1m303/303\u001b[0m \u001b[32m━━━━━━━━━━━━━━━━━━━━\u001b[0m\u001b[37m\u001b[0m \u001b[1m36s\u001b[0m 117ms/step - loss: 0.8638\n",
      "Epoch 34/50\n",
      "\u001b[1m302/303\u001b[0m \u001b[32m━━━━━━━━━━━━━━━━━━━\u001b[0m\u001b[37m━\u001b[0m \u001b[1m0s\u001b[0m 127ms/step - loss: 0.8361\n",
      "Epoch 34: loss improved from 0.90441 to 0.88759, saving model to saved_weights-34-0.8876.keras\n",
      "\u001b[1m303/303\u001b[0m \u001b[32m━━━━━━━━━━━━━━━━━━━━\u001b[0m\u001b[37m\u001b[0m \u001b[1m38s\u001b[0m 127ms/step - loss: 0.8365\n",
      "Epoch 35/50\n",
      "\u001b[1m302/303\u001b[0m \u001b[32m━━━━━━━━━━━━━━━━━━━\u001b[0m\u001b[37m━\u001b[0m \u001b[1m0s\u001b[0m 104ms/step - loss: 0.8361\n",
      "Epoch 35: loss improved from 0.88759 to 0.88197, saving model to saved_weights-35-0.8820.keras\n",
      "\u001b[1m303/303\u001b[0m \u001b[32m━━━━━━━━━━━━━━━━━━━━\u001b[0m\u001b[37m\u001b[0m \u001b[1m32s\u001b[0m 105ms/step - loss: 0.8364\n",
      "Epoch 36/50\n",
      "\u001b[1m303/303\u001b[0m \u001b[32m━━━━━━━━━━━━━━━━━━━━\u001b[0m\u001b[37m\u001b[0m \u001b[1m0s\u001b[0m 104ms/step - loss: 0.8238\n",
      "Epoch 36: loss improved from 0.88197 to 0.87307, saving model to saved_weights-36-0.8731.keras\n",
      "\u001b[1m303/303\u001b[0m \u001b[32m━━━━━━━━━━━━━━━━━━━━\u001b[0m\u001b[37m\u001b[0m \u001b[1m32s\u001b[0m 104ms/step - loss: 0.8240\n",
      "Epoch 37/50\n",
      "\u001b[1m303/303\u001b[0m \u001b[32m━━━━━━━━━━━━━━━━━━━━\u001b[0m\u001b[37m\u001b[0m \u001b[1m0s\u001b[0m 104ms/step - loss: 0.8321\n",
      "Epoch 37: loss improved from 0.87307 to 0.86676, saving model to saved_weights-37-0.8668.keras\n",
      "\u001b[1m303/303\u001b[0m \u001b[32m━━━━━━━━━━━━━━━━━━━━\u001b[0m\u001b[37m\u001b[0m \u001b[1m32s\u001b[0m 104ms/step - loss: 0.8322\n",
      "Epoch 38/50\n",
      "\u001b[1m302/303\u001b[0m \u001b[32m━━━━━━━━━━━━━━━━━━━\u001b[0m\u001b[37m━\u001b[0m \u001b[1m0s\u001b[0m 106ms/step - loss: 0.8289\n",
      "Epoch 38: loss improved from 0.86676 to 0.86577, saving model to saved_weights-38-0.8658.keras\n",
      "\u001b[1m303/303\u001b[0m \u001b[32m━━━━━━━━━━━━━━━━━━━━\u001b[0m\u001b[37m\u001b[0m \u001b[1m32s\u001b[0m 106ms/step - loss: 0.8291\n",
      "Epoch 39/50\n",
      "\u001b[1m302/303\u001b[0m \u001b[32m━━━━━━━━━━━━━━━━━━━\u001b[0m\u001b[37m━\u001b[0m \u001b[1m0s\u001b[0m 104ms/step - loss: 0.7940\n",
      "Epoch 39: loss improved from 0.86577 to 0.85296, saving model to saved_weights-39-0.8530.keras\n",
      "\u001b[1m303/303\u001b[0m \u001b[32m━━━━━━━━━━━━━━━━━━━━\u001b[0m\u001b[37m\u001b[0m \u001b[1m32s\u001b[0m 104ms/step - loss: 0.7943\n",
      "Epoch 40/50\n",
      "\u001b[1m302/303\u001b[0m \u001b[32m━━━━━━━━━━━━━━━━━━━\u001b[0m\u001b[37m━\u001b[0m \u001b[1m0s\u001b[0m 104ms/step - loss: 0.8138\n",
      "Epoch 40: loss improved from 0.85296 to 0.85256, saving model to saved_weights-40-0.8526.keras\n",
      "\u001b[1m303/303\u001b[0m \u001b[32m━━━━━━━━━━━━━━━━━━━━\u001b[0m\u001b[37m\u001b[0m \u001b[1m32s\u001b[0m 104ms/step - loss: 0.8140\n",
      "Epoch 41/50\n",
      "\u001b[1m302/303\u001b[0m \u001b[32m━━━━━━━━━━━━━━━━━━━\u001b[0m\u001b[37m━\u001b[0m \u001b[1m0s\u001b[0m 106ms/step - loss: 0.8001\n",
      "Epoch 41: loss improved from 0.85256 to 0.84894, saving model to saved_weights-41-0.8489.keras\n",
      "\u001b[1m303/303\u001b[0m \u001b[32m━━━━━━━━━━━━━━━━━━━━\u001b[0m\u001b[37m\u001b[0m \u001b[1m32s\u001b[0m 106ms/step - loss: 0.8004\n",
      "Epoch 42/50\n",
      "\u001b[1m303/303\u001b[0m \u001b[32m━━━━━━━━━━━━━━━━━━━━\u001b[0m\u001b[37m\u001b[0m \u001b[1m0s\u001b[0m 104ms/step - loss: 0.8015\n",
      "Epoch 42: loss improved from 0.84894 to 0.84375, saving model to saved_weights-42-0.8437.keras\n",
      "\u001b[1m303/303\u001b[0m \u001b[32m━━━━━━━━━━━━━━━━━━━━\u001b[0m\u001b[37m\u001b[0m \u001b[1m32s\u001b[0m 104ms/step - loss: 0.8016\n",
      "Epoch 43/50\n",
      "\u001b[1m303/303\u001b[0m \u001b[32m━━━━━━━━━━━━━━━━━━━━\u001b[0m\u001b[37m\u001b[0m \u001b[1m0s\u001b[0m 104ms/step - loss: 0.7847\n",
      "Epoch 43: loss improved from 0.84375 to 0.83297, saving model to saved_weights-43-0.8330.keras\n",
      "\u001b[1m303/303\u001b[0m \u001b[32m━━━━━━━━━━━━━━━━━━━━\u001b[0m\u001b[37m\u001b[0m \u001b[1m41s\u001b[0m 104ms/step - loss: 0.7848\n",
      "Epoch 44/50\n",
      "\u001b[1m303/303\u001b[0m \u001b[32m━━━━━━━━━━━━━━━━━━━━\u001b[0m\u001b[37m\u001b[0m \u001b[1m0s\u001b[0m 131ms/step - loss: 0.7738\n",
      "Epoch 44: loss improved from 0.83297 to 0.82383, saving model to saved_weights-44-0.8238.keras\n",
      "\u001b[1m303/303\u001b[0m \u001b[32m━━━━━━━━━━━━━━━━━━━━\u001b[0m\u001b[37m\u001b[0m \u001b[1m40s\u001b[0m 131ms/step - loss: 0.7740\n",
      "Epoch 45/50\n",
      "\u001b[1m303/303\u001b[0m \u001b[32m━━━━━━━━━━━━━━━━━━━━\u001b[0m\u001b[37m\u001b[0m \u001b[1m0s\u001b[0m 130ms/step - loss: 0.7545\n",
      "Epoch 45: loss improved from 0.82383 to 0.81421, saving model to saved_weights-45-0.8142.keras\n",
      "\u001b[1m303/303\u001b[0m \u001b[32m━━━━━━━━━━━━━━━━━━━━\u001b[0m\u001b[37m\u001b[0m \u001b[1m40s\u001b[0m 130ms/step - loss: 0.7547\n",
      "Epoch 46/50\n",
      "\u001b[1m302/303\u001b[0m \u001b[32m━━━━━━━━━━━━━━━━━━━\u001b[0m\u001b[37m━\u001b[0m \u001b[1m0s\u001b[0m 105ms/step - loss: 0.7712\n",
      "Epoch 46: loss did not improve from 0.81421\n",
      "\u001b[1m303/303\u001b[0m \u001b[32m━━━━━━━━━━━━━━━━━━━━\u001b[0m\u001b[37m\u001b[0m \u001b[1m32s\u001b[0m 105ms/step - loss: 0.7715\n",
      "Epoch 47/50\n",
      "\u001b[1m303/303\u001b[0m \u001b[32m━━━━━━━━━━━━━━━━━━━━\u001b[0m\u001b[37m\u001b[0m \u001b[1m0s\u001b[0m 105ms/step - loss: 0.7594\n",
      "Epoch 47: loss improved from 0.81421 to 0.80378, saving model to saved_weights-47-0.8038.keras\n",
      "\u001b[1m303/303\u001b[0m \u001b[32m━━━━━━━━━━━━━━━━━━━━\u001b[0m\u001b[37m\u001b[0m \u001b[1m32s\u001b[0m 105ms/step - loss: 0.7595\n",
      "Epoch 48/50\n",
      "\u001b[1m303/303\u001b[0m \u001b[32m━━━━━━━━━━━━━━━━━━━━\u001b[0m\u001b[37m\u001b[0m \u001b[1m0s\u001b[0m 105ms/step - loss: 0.7396\n",
      "Epoch 48: loss improved from 0.80378 to 0.79313, saving model to saved_weights-48-0.7931.keras\n",
      "\u001b[1m303/303\u001b[0m \u001b[32m━━━━━━━━━━━━━━━━━━━━\u001b[0m\u001b[37m\u001b[0m \u001b[1m32s\u001b[0m 105ms/step - loss: 0.7398\n",
      "Epoch 49/50\n",
      "\u001b[1m302/303\u001b[0m \u001b[32m━━━━━━━━━━━━━━━━━━━\u001b[0m\u001b[37m━\u001b[0m \u001b[1m0s\u001b[0m 108ms/step - loss: 0.7451\n",
      "Epoch 49: loss improved from 0.79313 to 0.78492, saving model to saved_weights-49-0.7849.keras\n",
      "\u001b[1m303/303\u001b[0m \u001b[32m━━━━━━━━━━━━━━━━━━━━\u001b[0m\u001b[37m\u001b[0m \u001b[1m33s\u001b[0m 108ms/step - loss: 0.7453\n",
      "Epoch 50/50\n",
      "\u001b[1m303/303\u001b[0m \u001b[32m━━━━━━━━━━━━━━━━━━━━\u001b[0m\u001b[37m\u001b[0m \u001b[1m0s\u001b[0m 103ms/step - loss: 0.7334\n",
      "Epoch 50: loss improved from 0.78492 to 0.78463, saving model to saved_weights-50-0.7846.keras\n",
      "\u001b[1m303/303\u001b[0m \u001b[32m━━━━━━━━━━━━━━━━━━━━\u001b[0m\u001b[37m\u001b[0m \u001b[1m31s\u001b[0m 103ms/step - loss: 0.7336\n"
     ]
    }
   ],
   "source": [
    "history = model.fit(x, y,\n",
    "                    batch_size=128,\n",
    "                    epochs=50,\n",
    "                    callbacks=callbacks_list)\n",
    "model.save('my_saved_weights_50epochs.keras')"
   ]
  },
  {
   "cell_type": "markdown",
   "id": "f43da1f5",
   "metadata": {},
   "source": [
    "# === PLOT TRAINING LOSS ==="
   ]
  },
  {
   "cell_type": "code",
   "execution_count": 11,
   "id": "9da0c710",
   "metadata": {},
   "outputs": [
    {
     "data": {
      "image/png": "[encoded data removed]",
      "text/plain": [
       "<Figure size 640x480 with 1 Axes>"
      ]
     },
     "metadata": {},
     "output_type": "display_data"
    }
   ],
   "source": [
    "loss = history.history['loss']\n",
    "epochs = range(1, len(loss) + 1)\n",
    "plt.plot(epochs, loss, 'y', label='Training loss')\n",
    "plt.title('Training loss')\n",
    "plt.xlabel('Epochs')\n",
    "plt.ylabel('Loss')\n",
    "plt.legend()\n",
    "plt.show()"
   ]
  },
  {
   "cell_type": "markdown",
   "id": "8cf621b9",
   "metadata": {},
   "source": [
    "# === SAMPLE FUNCTION ==="
   ]
  },
  {
   "cell_type": "code",
   "execution_count": 12,
   "id": "5e4e3618",
   "metadata": {},
   "outputs": [],
   "source": [
    "def sample(preds):\n",
    "    preds = np.asarray(preds).astype('float64')\n",
    "    preds = np.log(preds)\n",
    "    exp_preds = np.exp(preds)  # exp of log(x), isn't this same as x??\n",
    "    preds = exp_preds / np.sum(exp_preds)\n",
    "    probas = np.random.multinomial(1, preds, 1)\n",
    "    return np.argmax(probas)"
   ]
  },
  {
   "cell_type": "markdown",
   "id": "1622a6cc",
   "metadata": {},
   "source": [
    "# === GENERATE TEXT ==="
   ]
  },
  {
   "cell_type": "code",
   "execution_count": 13,
   "id": "a30dafc0",
   "metadata": {},
   "outputs": [
    {
     "name": "stdout",
     "output_type": "stream",
     "text": [
      "Loaded model weights from: saved_weights-50-0.7846.keras\n"
     ]
    }
   ],
   "source": [
    "import glob\n",
    "latest_model = sorted(glob.glob(\"saved_weights-50-*.keras\"))[-1]\n",
    "model.load_weights(latest_model)\n",
    "print(f\"Loaded model weights from: {latest_model}\")"
   ]
  },
  {
   "cell_type": "markdown",
   "id": "b73c00f3",
   "metadata": {},
   "source": [
    "### Pick a random sentence from the text as seed."
   ]
  },
  {
   "cell_type": "code",
   "execution_count": 14,
   "id": "5068dc03",
   "metadata": {},
   "outputs": [],
   "source": [
    "start_index = random.randint(0, n_chars - seq_length - 1)"
   ]
  },
  {
   "cell_type": "markdown",
   "id": "6cbb10d0",
   "metadata": {},
   "source": [
    "### Initiate generated text and keep adding new predictions and print them out"
   ]
  },
  {
   "cell_type": "code",
   "execution_count": 15,
   "id": "2f23857f",
   "metadata": {},
   "outputs": [
    {
     "name": "stdout",
     "output_type": "stream",
     "text": [
      "----- Seed for our text prediction: \"s to issue additional paper currency to cover the\n",
      "huerta “lo\"\n",
      "s to issue additional paper currency to cover the\n",
      "huerta “lo"
     ]
    },
    {
     "data": {
      "text/plain": [
       "60"
      ]
     },
     "execution_count": 15,
     "metadata": {},
     "output_type": "execute_result"
    }
   ],
   "source": [
    "generated = ''\n",
    "sentence = raw_text[start_index: start_index + seq_length]\n",
    "generated += sentence\n",
    "print('----- Seed for our text prediction: \"' + sentence + '\"')\n",
    "sys.stdout.write(generated)"
   ]
  },
  {
   "cell_type": "markdown",
   "id": "59e0ee69",
   "metadata": {},
   "source": [
    "### Number of characters including spaces"
   ]
  },
  {
   "cell_type": "code",
   "execution_count": 16,
   "id": "d0dd6547",
   "metadata": {},
   "outputs": [
    {
     "name": "stdout",
     "output_type": "stream",
     "text": [
      "ck of the\n",
      "groentling, full gempore cornilizationage fever i stale of golds of diaz hrone and on mort, and the oil furcheate ites industry and the sprieal of this power\n",
      "ho cony and under the lands. it, and\n",
      "structure--aftillinements workigial enough of an are cannilians that it\n",
      "ister orly\n",
      "with ittently mexico, and indishers and moreothist, but it is the country, for was only wation parts to buin mel\n"
     ]
    }
   ],
   "source": [
    "for i in range(400):\n",
    "    x_pred = np.zeros((1, seq_length, n_vocab))\n",
    "    for t, char in enumerate(sentence):\n",
    "        x_pred[0, t, char_to_int[char]] = 1.\n",
    "\n",
    "    preds = model.predict(x_pred, verbose=0)[0]\n",
    "    next_index = sample(preds)\n",
    "    next_char = int_to_char[next_index]\n",
    "\n",
    "    generated += next_char\n",
    "    sentence = sentence[1:] + next_char\n",
    "\n",
    "    sys.stdout.write(next_char)\n",
    "    sys.stdout.flush()\n",
    "print()"
   ]
  },
  {
   "cell_type": "markdown",
   "id": "16e7cafd",
   "metadata": {},
   "source": [
    "# REFERENCE\n",
    "OpenAI. (2025). ChatGPT’s assistance with CS506 HOS10A LSTM text generation example [Large language model]. https://openai.com/chatgpt"
   ]
  }
 ],
 "metadata": {
  "kernelspec": {
   "display_name": "Python 3",
   "language": "python",
   "name": "python3"
  },
  "language_info": {
   "codemirror_mode": {
    "name": "ipython",
    "version": 3
   },
   "file_extension": ".py",
   "mimetype": "text/x-python",
   "name": "python",
   "nbconvert_exporter": "python",
   "pygments_lexer": "ipython3",
   "version": "3.11.9"
  }
 },
 "nbformat": 4,
 "nbformat_minor": 5
}
