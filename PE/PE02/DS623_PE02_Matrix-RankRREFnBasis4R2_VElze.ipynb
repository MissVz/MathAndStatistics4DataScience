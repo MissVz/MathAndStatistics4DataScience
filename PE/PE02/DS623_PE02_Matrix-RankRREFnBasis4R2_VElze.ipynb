{
 "cells": [
  {
   "cell_type": "markdown",
   "id": "f5751471",
   "metadata": {},
   "source": [
    "# DS623 PE02 – Matrix Rank, RREF, and Basis for R^2\n",
    "Topic: Solving a system of two equations using only NumPy basics"
   ]
  },
  {
   "cell_type": "markdown",
   "id": "c3f89788",
   "metadata": {},
   "source": [
    "🤖 Imagine you're programming a robot tutor in a STEM classroom.💻  \n",
    "The robot takes in a 2x2 system of equations and teaches students:  \n",
    "- how to perform row operations manually (no AI shortcuts allowed!)\n",
    "- when two vectors form a complete coordinate frame (basis for R^2)\n",
    "- how to detect infinite solution paths (kernel detection)"
   ]
  },
  {
   "cell_type": "code",
   "execution_count": 1,
   "id": "04957ed2",
   "metadata": {},
   "outputs": [],
   "source": [
    "import numpy as np"
   ]
  },
  {
   "cell_type": "markdown",
   "id": "52313a72",
   "metadata": {},
   "source": [
    "## Step 1: Define matrix A (can modify this to test different examples)"
   ]
  },
  {
   "cell_type": "code",
   "execution_count": 2,
   "id": "ee5d2ec7",
   "metadata": {},
   "outputs": [
    {
     "name": "stdout",
     "output_type": "stream",
     "text": [
      "🤖 Matrix uploaded by student:\n",
      "[[3. 2.]\n",
      " [2. 3.]]\n"
     ]
    }
   ],
   "source": [
    "A = np.array([[3, 2], [2, 3]], dtype=float)\n",
    "print(\"🤖 Matrix uploaded by student:\")\n",
    "print(A)"
   ]
  },
  {
   "cell_type": "markdown",
   "id": "c7b3d023",
   "metadata": {},
   "source": [
    "## Step 2: Convert A to RREF manually using basic row operations"
   ]
  },
  {
   "cell_type": "code",
   "execution_count": 3,
   "id": "ac8f6461",
   "metadata": {},
   "outputs": [
    {
     "name": "stdout",
     "output_type": "stream",
     "text": [
      "\n",
      "🤖 Initiating manual row reduction...\n"
     ]
    }
   ],
   "source": [
    "print(\"\\n🤖 Initiating manual row reduction...\")\n",
    "rref = A.copy()"
   ]
  },
  {
   "cell_type": "code",
   "execution_count": 4,
   "id": "5f6661b8",
   "metadata": {},
   "outputs": [
    {
     "name": "stdout",
     "output_type": "stream",
     "text": [
      "- Scaling Row 0 to make leading coefficient 1\n"
     ]
    }
   ],
   "source": [
    "# Make leading 1 in row 0, column 0\n",
    "if rref[0, 0] != 0:\n",
    "    print(\"- Scaling Row 0 to make leading coefficient 1\")\n",
    "    rref[0] = rref[0] / rref[0, 0]"
   ]
  },
  {
   "cell_type": "code",
   "execution_count": 5,
   "id": "2ed03df3",
   "metadata": {},
   "outputs": [
    {
     "name": "stdout",
     "output_type": "stream",
     "text": [
      "- Eliminating below Row 0\n"
     ]
    }
   ],
   "source": [
    "# Eliminate below (row 1, col 0)\n",
    "print(\"- Eliminating below Row 0\")\n",
    "rref[1] = rref[1] - rref[1, 0] * rref[0]"
   ]
  },
  {
   "cell_type": "code",
   "execution_count": 6,
   "id": "91042587",
   "metadata": {},
   "outputs": [
    {
     "name": "stdout",
     "output_type": "stream",
     "text": [
      "- Scaling Row 1 to make leading coefficient 1\n"
     ]
    }
   ],
   "source": [
    "# Make leading 1 in row 1, col 1 if not zero\n",
    "if rref[1, 1] != 0:\n",
    "    print(\"- Scaling Row 1 to make leading coefficient 1\")\n",
    "    rref[1] = rref[1] / rref[1, 1]"
   ]
  },
  {
   "cell_type": "code",
   "execution_count": 7,
   "id": "70f3526b",
   "metadata": {},
   "outputs": [
    {
     "name": "stdout",
     "output_type": "stream",
     "text": [
      "- Eliminating above Row 1\n"
     ]
    }
   ],
   "source": [
    "# Eliminate above (row 0, col 1)\n",
    "print(\"- Eliminating above Row 1\")\n",
    "rref[0] = rref[0] - rref[0, 1] * rref[1]"
   ]
  },
  {
   "cell_type": "code",
   "execution_count": 8,
   "id": "aa6e9889",
   "metadata": {},
   "outputs": [
    {
     "name": "stdout",
     "output_type": "stream",
     "text": [
      "\n",
      "✅ Reduced Row Echelon Form (RREF):\n",
      "[[1. 0.]\n",
      " [0. 1.]]\n"
     ]
    }
   ],
   "source": [
    "print(\"\\n✅ Reduced Row Echelon Form (RREF):\")\n",
    "print(rref)"
   ]
  },
  {
   "cell_type": "markdown",
   "id": "41cf5467",
   "metadata": {},
   "source": [
    "## Step 3: Compute rank using NumPy's basic SVD decomposition"
   ]
  },
  {
   "cell_type": "code",
   "execution_count": 9,
   "id": "e676c1cd",
   "metadata": {},
   "outputs": [
    {
     "name": "stdout",
     "output_type": "stream",
     "text": [
      "\n",
      "🤖 Performing SVD to determine rank...\n",
      "- Singular values: [5. 1.]\n",
      "✅ Rank of matrix A is: 2\n"
     ]
    }
   ],
   "source": [
    "print(\"\\n🤖 Performing SVD to determine rank...\")\n",
    "u, s, vh = np.linalg.svd(A)\n",
    "rank = np.sum(s > 1e-10)\n",
    "print(\"- Singular values:\", s)\n",
    "print(\"✅ Rank of matrix A is:\", rank)"
   ]
  },
  {
   "cell_type": "markdown",
   "id": "78f90165",
   "metadata": {},
   "source": [
    "## Step 4: Check if column vectors form a basis for R^2"
   ]
  },
  {
   "cell_type": "code",
   "execution_count": 10,
   "id": "b1ec48af",
   "metadata": {},
   "outputs": [
    {
     "name": "stdout",
     "output_type": "stream",
     "text": [
      "\n",
      "🤖 Evaluating column vector independence...\n",
      "✅ The columns span R^2 — robot approves: they form a basis!\n"
     ]
    }
   ],
   "source": [
    "print(\"\\n🤖 Evaluating column vector independence...\")\n",
    "if rank == 2:\n",
    "    print(\"✅ The columns span R^2 — robot approves: they form a basis!\")\n",
    "else:\n",
    "    print(\"⚠️ Columns do NOT span R^2 — linear dependence detected!\")"
   ]
  },
  {
   "cell_type": "markdown",
   "id": "9aeafc29",
   "metadata": {},
   "source": [
    "## Optional Step 5: Kernel (null space)"
   ]
  },
  {
   "cell_type": "markdown",
   "id": "2eac7d0c",
   "metadata": {},
   "source": []
  },
  {
   "cell_type": "code",
   "execution_count": 11,
   "id": "14f69412",
   "metadata": {},
   "outputs": [
    {
     "name": "stdout",
     "output_type": "stream",
     "text": [
      "\n",
      "🤖 Scanning for null space solutions (Ax = 0)...\n",
      "✅ Kernel is trivial: only solution is [0. 0.]\n"
     ]
    }
   ],
   "source": [
    "print(\"\\n🤖 Scanning for null space solutions (Ax = 0)...\")\n",
    "b = np.zeros((2,))\n",
    "try:\n",
    "    x = np.linalg.solve(A, b)\n",
    "    print(\"✅ Kernel is trivial: only solution is\", x)\n",
    "except np.linalg.LinAlgError:\n",
    "    print(\"🧠 Infinite solutions found. The kernel is a non-trivial subspace of R^2.\")"
   ]
  },
  {
   "cell_type": "markdown",
   "id": "a3b9068a",
   "metadata": {},
   "source": [
    "## PE02 Summary Reports"
   ]
  },
  {
   "cell_type": "code",
   "execution_count": 12,
   "id": "92bf61ca",
   "metadata": {},
   "outputs": [
    {
     "name": "stdout",
     "output_type": "stream",
     "text": [
      "🤖 Mission complete: The robot has successfully analyzed the matrix!\n",
      "- RREF computed ✅\n",
      "- Rank assessed ✅\n",
      "- Basis evaluated ✅\n",
      "- Kernel examined ✅\n",
      "Time to recharge and await the next system of equations... 🤖🔋\n"
     ]
    }
   ],
   "source": [
    "print(\"🤖 Mission complete: The robot has successfully analyzed the matrix!\")\n",
    "print(\"- RREF computed ✅\")\n",
    "print(\"- Rank assessed ✅\")\n",
    "print(\"- Basis evaluated ✅\")\n",
    "print(\"- Kernel examined ✅\")\n",
    "print(\"Time to recharge and await the next system of equations... 🤖🔋\")"
   ]
  },
  {
   "cell_type": "code",
   "execution_count": 13,
   "id": "d85c1df2",
   "metadata": {},
   "outputs": [
    {
     "name": "stdout",
     "output_type": "stream",
     "text": [
      "\n",
      "🤖 Reflection on the 3 Examples:\n",
      "\n",
      "📘 Example 1: Full Rank Matrix\n",
      "RREF: Identity matrix ➡️ System is fully independent.\n",
      "Rank = 2 ➕ Columns span R² ➡️ This matrix is invertible.\n",
      "Kernel = {0} ➡️ Trivial solution only. Everything is nicely behaved!\n",
      "\n",
      "📘 Example 2: Another Full Rank\n",
      "Same conclusion as Example 1 — different numbers, same structure.\n",
      "The robot confirms: unique solution, independent columns, full basis.\n",
      "\n",
      "📘 Example 3: Linearly Dependent Vectors\n",
      "RREF: A row of zeros detected! 🛑\n",
      "Rank = 1 ➡️ Columns do NOT span R².\n",
      "Kernel: infinite solutions ➡️ Robot found a subspace in the shadows 👀\n",
      "\n",
      "💡 Summary:\n",
      "When the rank < number of columns, the matrix loses its ability to span R².\n",
      "And that’s when kernel vectors emerge from the null-space abyss!\n"
     ]
    }
   ],
   "source": [
    "print(\"\\n🤖 Reflection on the 3 Examples:\")\n",
    "\n",
    "print(\"\\n📘 Example 1: Full Rank Matrix\")\n",
    "print(\"RREF: Identity matrix ➡️ System is fully independent.\")\n",
    "print(\"Rank = 2 ➕ Columns span R² ➡️ This matrix is invertible.\")\n",
    "print(\"Kernel = {0} ➡️ Trivial solution only. Everything is nicely behaved!\")\n",
    "\n",
    "print(\"\\n📘 Example 2: Another Full Rank\")\n",
    "print(\"Same conclusion as Example 1 — different numbers, same structure.\")\n",
    "print(\"The robot confirms: unique solution, independent columns, full basis.\")\n",
    "\n",
    "print(\"\\n📘 Example 3: Linearly Dependent Vectors\")\n",
    "print(\"RREF: A row of zeros detected! 🛑\")\n",
    "print(\"Rank = 1 ➡️ Columns do NOT span R².\")\n",
    "print(\"Kernel: infinite solutions ➡️ Robot found a subspace in the shadows 👀\")\n",
    "\n",
    "print(\"\\n💡 Summary:\")\n",
    "print(\"When the rank < number of columns, the matrix loses its ability to span R².\")\n",
    "print(\"And that’s when kernel vectors emerge from the null-space abyss!\")"
   ]
  },
  {
   "cell_type": "code",
   "execution_count": 14,
   "id": "9ca920af",
   "metadata": {},
   "outputs": [
    {
     "name": "stdout",
     "output_type": "stream",
     "text": [
      "\n",
      "🧠 Kernel Summary Reflection:\n",
      "\n",
      "📘 Example 1:\n",
      "Matrix is full rank. Ax = 0 has only one solution: the zero vector.\n",
      "Kernel = { [0, 0] }  → trivial kernel ✅\n",
      "\n",
      "📘 Example 2:\n",
      "Same as Example 1 — still full rank.\n",
      "Kernel = { [0, 0] }  → trivial kernel ✅\n",
      "\n",
      "📘 Example 3:\n",
      "Matrix is rank-deficient. One row is a scalar multiple of the other.\n",
      "Kernel contains infinitely many solutions. It’s spanned by:\n",
      "Kernel basis ≈ np.array([-2/3, 1])\n",
      "So any scalar multiple of that vector satisfies Ax = 0.\n",
      "\n",
      "🧪 Conclusion:\n",
      "If the rank < number of columns, the system has infinite solutions.\n",
      "The robot now knows when the matrix is hiding a secret direction in R^2 🕵️‍♂️\n"
     ]
    }
   ],
   "source": [
    "print(\"\\n🧠 Kernel Summary Reflection:\")\n",
    "\n",
    "print(\"\\n📘 Example 1:\")\n",
    "print(\"Matrix is full rank. Ax = 0 has only one solution: the zero vector.\")\n",
    "print(\"Kernel = { [0, 0] }  → trivial kernel ✅\")\n",
    "\n",
    "print(\"\\n📘 Example 2:\")\n",
    "print(\"Same as Example 1 — still full rank.\")\n",
    "print(\"Kernel = { [0, 0] }  → trivial kernel ✅\")\n",
    "\n",
    "print(\"\\n📘 Example 3:\")\n",
    "print(\"Matrix is rank-deficient. One row is a scalar multiple of the other.\")\n",
    "print(\"Kernel contains infinitely many solutions. It’s spanned by:\")\n",
    "print(\"Kernel basis ≈ np.array([-2/3, 1])\")\n",
    "print(\"So any scalar multiple of that vector satisfies Ax = 0.\")\n",
    "\n",
    "print(\"\\n🧪 Conclusion:\")\n",
    "print(\"If the rank < number of columns, the system has infinite solutions.\")\n",
    "print(\"The robot now knows when the matrix is hiding a secret direction in R^2 🕵️‍♂️\")"
   ]
  },
  {
   "cell_type": "markdown",
   "id": "36c34de1",
   "metadata": {},
   "source": [
    "REFERENCE  \n",
    "OpenAI. (2025). ChatGPT’s assistance with PE02: RREF and Basis Evaluation [Large language model]. https://openai.com/chatgpt"
   ]
  }
 ],
 "metadata": {
  "kernelspec": {
   "display_name": "Python (torch-gpu)",
   "language": "python",
   "name": "torch-gpu"
  },
  "language_info": {
   "codemirror_mode": {
    "name": "ipython",
    "version": 3
   },
   "file_extension": ".py",
   "mimetype": "text/x-python",
   "name": "python",
   "nbconvert_exporter": "python",
   "pygments_lexer": "ipython3",
   "version": "3.12.9"
  }
 },
 "nbformat": 4,
 "nbformat_minor": 5
}
