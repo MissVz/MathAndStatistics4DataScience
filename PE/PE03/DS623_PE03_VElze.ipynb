{
 "cells": [
  {
   "cell_type": "markdown",
   "id": "c1869ad5",
   "metadata": {},
   "source": [
    "# DS623 PE03 - Vector Norms and Triangle Inequality\n",
    "Topic: Norms, Distances, Triangle Inequality, and Parallelogram Area in R^3"
   ]
  },
  {
   "cell_type": "code",
   "execution_count": 2,
   "id": "fb3c88d2",
   "metadata": {},
   "outputs": [],
   "source": [
    "import numpy as np"
   ]
  },
  {
   "cell_type": "markdown",
   "id": "a6f67864",
   "metadata": {},
   "source": [
    "# Property 1 INPUT: Three-dimensional Vectors"
   ]
  },
  {
   "cell_type": "code",
   "execution_count": 3,
   "id": "069f64f1",
   "metadata": {},
   "outputs": [],
   "source": [
    "# --- Input Vectors (Example) ---\n",
    "v1 = np.array([2, 1, -3])\n",
    "v2 = np.array([-3, 0, 5])"
   ]
  },
  {
   "cell_type": "markdown",
   "id": "b9cecc93",
   "metadata": {},
   "source": [
    "# Property 2 OUTPUTS"
   ]
  },
  {
   "cell_type": "code",
   "execution_count": 4,
   "id": "95c6486d",
   "metadata": {},
   "outputs": [],
   "source": [
    "# --- Input Vectors (Example) ---\n",
    "v1 = np.array([2, 1, -3])\n",
    "v2 = np.array([-3, 0, 5])"
   ]
  },
  {
   "cell_type": "code",
   "execution_count": null,
   "id": "80f62c1f",
   "metadata": {},
   "outputs": [],
   "source": [
    "# --- L1 Norms and Distance ---\n",
    "l1_v1 = np.sum(np.abs(v1))\n",
    "l1_v2 = np.sum(np.abs(v2))\n",
    "l1_distance = np.sum(np.abs(v1 - v2))       # Note: Correct L1 distance = sum of abs differences = 14\n",
    "l1_triangle_inequality = l1_v1 + l1_v2 >= np.sum(np.abs(v1 + v2))"
   ]
  },
  {
   "cell_type": "code",
   "execution_count": 6,
   "id": "0923be4b",
   "metadata": {},
   "outputs": [],
   "source": [
    "# --- L2 Norms and Distance ---\n",
    "l2_v1 = np.linalg.norm(v1)\n",
    "l2_v2 = np.linalg.norm(v2)\n",
    "l2_distance = np.linalg.norm(v1 - v2)\n",
    "l2_triangle_inequality = l2_v1 + l2_v2 >= np.linalg.norm(v1 + v2)"
   ]
  },
  {
   "cell_type": "code",
   "execution_count": 7,
   "id": "7d6e274d",
   "metadata": {},
   "outputs": [],
   "source": [
    "# --- Optional: Area of Parallelogram Formed by v1 and v2 ---\n",
    "cross_product = np.cross(v1, v2)\n",
    "parallelogram_area = np.linalg.norm(cross_product)"
   ]
  },
  {
   "cell_type": "code",
   "execution_count": null,
   "id": "7654b8d3",
   "metadata": {},
   "outputs": [
    {
     "name": "stdout",
     "output_type": "stream",
     "text": [
      "l1 norm of v1: 6\n",
      "l1 norm of v2: 8\n",
      "l1 distance between v1 and v2: 14\n",
      "Triangular inequality: 6 + 8 ≥ 4; True\n"
     ]
    }
   ],
   "source": [
    "# --- Output ---\n",
    "print(f\"l1 norm of v1: {l1_v1}\")\n",
    "print(f\"l1 norm of v2: {l1_v2}\")\n",
    "print(f\"l1 distance between v1 and v2: {l1_distance}\")        # Correct value is 14 (not 8 as shown in the example PDF)\n",
    "print(f\"Triangular inequality: {l1_v1} + {l1_v2} ≥ {np.sum(np.abs(v1 + v2))}; {l1_triangle_inequality}\")"
   ]
  },
  {
   "cell_type": "code",
   "execution_count": 9,
   "id": "dc32f8c8",
   "metadata": {},
   "outputs": [
    {
     "name": "stdout",
     "output_type": "stream",
     "text": [
      "l2 norm of v1: 3.742\n",
      "l2 norm of v2: 5.831\n",
      "l2 distance between v1 and v2: 9.487\n",
      "Triangular inequality: 3.742 + 5.831 ≥ 2.449; True\n"
     ]
    }
   ],
   "source": [
    "print(f\"l2 norm of v1: {l2_v1:.3f}\")\n",
    "print(f\"l2 norm of v2: {l2_v2:.3f}\")\n",
    "print(f\"l2 distance between v1 and v2: {l2_distance:.3f}\")\n",
    "print(f\"Triangular inequality: {l2_v1:.3f} + {l2_v2:.3f} ≥ {np.linalg.norm(v1 + v2):.3f}; {l2_triangle_inequality}\")"
   ]
  },
  {
   "cell_type": "code",
   "execution_count": 11,
   "id": "c2e4d1b7",
   "metadata": {},
   "outputs": [
    {
     "name": "stdout",
     "output_type": "stream",
     "text": [
      "(optional) Area of the parallelogram formed by v1 and v2 (in l2): 5.916\n"
     ]
    }
   ],
   "source": [
    "print(f\"(optional) Area of the parallelogram formed by v1 and v2 (in l2): {parallelogram_area:.3f}\")"
   ]
  },
  {
   "cell_type": "markdown",
   "id": "0d970578",
   "metadata": {},
   "source": [
    "REFERENCE:  \n",
    "OpenAI. (2025). ChatGPT’s assistance with DS623 PE03 on vector norms and triangle inequality [Large language model]. https://openai.com/chatgpt"
   ]
  }
 ],
 "metadata": {
  "kernelspec": {
   "display_name": "base",
   "language": "python",
   "name": "python3"
  },
  "language_info": {
   "codemirror_mode": {
    "name": "ipython",
    "version": 3
   },
   "file_extension": ".py",
   "mimetype": "text/x-python",
   "name": "python",
   "nbconvert_exporter": "python",
   "pygments_lexer": "ipython3",
   "version": "3.12.9"
  }
 },
 "nbformat": 4,
 "nbformat_minor": 5
}
