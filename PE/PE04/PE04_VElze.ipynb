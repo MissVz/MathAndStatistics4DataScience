{
 "cells": [
  {
   "cell_type": "markdown",
   "id": "59c57b26",
   "metadata": {},
   "source": [
    "# DS623 PE04 - Gram-Schmidt Process in R2\n",
    "Topic: Orthonormal Basis via Gram-Schmidt  \n",
    "Student: Verónica Elze"
   ]
  },
  {
   "cell_type": "code",
   "execution_count": 1,
   "id": "2bdbae1a",
   "metadata": {},
   "outputs": [],
   "source": [
    "import numpy as np"
   ]
  },
  {
   "cell_type": "markdown",
   "id": "11f9a62d",
   "metadata": {},
   "source": [
    "## 🎯 Task 1: Input two independent non-zero vectors in R2"
   ]
  },
  {
   "cell_type": "code",
   "execution_count": 2,
   "metadata": {},
   "outputs": [],
   "source": [
    "v1 = np.array([2, 1])\n",
    "v2 = np.array([-3, 0])"
   ]
  },
  {
   "cell_type": "markdown",
   "id": "74b6e1cd",
   "metadata": {},
   "source": [
    "## 🎯 Task 2: Apply Gram-Schmidt Process"
   ]
  },
  {
   "cell_type": "code",
   "execution_count": 3,
   "id": "a73413d9",
   "metadata": {},
   "outputs": [],
   "source": [
    "# Step 1: Normalize v1 to get w1\n",
    "w1 = v1 / np.linalg.norm(v1)"
   ]
  },
  {
   "cell_type": "code",
   "execution_count": 4,
   "id": "9eed37ac",
   "metadata": {},
   "outputs": [],
   "source": [
    "# Step 2: Project v2 onto w1 and subtract to make orthogonal\n",
    "proj = np.dot(v2, w1) * w1\n",
    "u2 = v2 - proj\n",
    "w2 = u2 / np.linalg.norm(u2)"
   ]
  },
  {
   "cell_type": "markdown",
   "id": "31f7f18e",
   "metadata": {},
   "source": [
    "## 🎯 Task 3: Verification"
   ]
  },
  {
   "cell_type": "code",
   "execution_count": 5,
   "id": "6715d570",
   "metadata": {},
   "outputs": [],
   "source": [
    "length_w1 = np.linalg.norm(w1)\n",
    "length_w2 = np.linalg.norm(w2)\n",
    "dot_product = np.dot(w1, w2)"
   ]
  },
  {
   "cell_type": "markdown",
   "id": "da962947",
   "metadata": {},
   "source": [
    "## 🎯 Task 4: Print output with 3 decimal precision"
   ]
  },
  {
   "cell_type": "code",
   "execution_count": 6,
   "id": "7278fdc8",
   "metadata": {},
   "outputs": [
    {
     "name": "stdout",
     "output_type": "stream",
     "text": [
      "Two orthonormal bases are found below.\n",
      "w1 - [0.894 0.447]\n",
      "w2 - [-0.447  0.894]\n",
      "\n",
      "Verification:\n",
      "Length of w1 is 1.000\n",
      "Length of w2 is 1.000\n",
      "Dot product is -0.000\n"
     ]
    }
   ],
   "source": [
    "np.set_printoptions(precision=3, suppress=True)\n",
    "print(\"Two orthonormal bases are found below.\")\n",
    "print(\"w1 -\", w1)\n",
    "print(\"w2 -\", w2)\n",
    "print(\"\\nVerification:\")\n",
    "print(f\"Length of w1 is {length_w1:.3f}\")\n",
    "print(f\"Length of w2 is {length_w2:.3f}\")\n",
    "print(f\"Dot product is {dot_product:.3f}\")"
   ]
  },
  {
   "cell_type": "markdown",
   "id": "ef0675f9",
   "metadata": {},
   "source": [
    "## 🔁 Challenge Extension: Gram-Schmidt in R³"
   ]
  },
  {
   "cell_type": "code",
   "execution_count": 7,
   "id": "1182452a",
   "metadata": {},
   "outputs": [],
   "source": [
    "# Additional vector for 3D space\n",
    "v3 = np.array([1, 4, 2])"
   ]
  },
  {
   "cell_type": "code",
   "execution_count": 8,
   "id": "9b8c2578",
   "metadata": {},
   "outputs": [],
   "source": [
    "# Extend w1 and w2 into R³ with zero z-components for demonstration\n",
    "v1_3d = np.array([2, 1, 0])\n",
    "v2_3d = np.array([-3, 0, 0])\n",
    "w1_3d = v1_3d / np.linalg.norm(v1_3d)\n",
    "u2_3d = v2_3d - np.dot(v2_3d, w1_3d) * w1_3d\n",
    "w2_3d = u2_3d / np.linalg.norm(u2_3d)"
   ]
  },
  {
   "cell_type": "code",
   "execution_count": 9,
   "id": "4545a3ff",
   "metadata": {},
   "outputs": [],
   "source": [
    "# Compute y3 = v3 - proj_w1(v3) - proj_w2(v3)\n",
    "y3 = v3 - np.dot(v3, w1_3d) * w1_3d - np.dot(v3, w2_3d) * w2_3d\n",
    "w3 = y3 / np.linalg.norm(y3)"
   ]
  },
  {
   "cell_type": "code",
   "execution_count": 10,
   "id": "902021ad",
   "metadata": {},
   "outputs": [
    {
     "name": "stdout",
     "output_type": "stream",
     "text": [
      "\n",
      "--- R³ Orthonormal Basis Extension ---\n",
      "w1 (3D): [0.894 0.447 0.   ]\n",
      "w2 (3D): [-0.447  0.894  0.   ]\n",
      "w3: [0. 0. 1.]\n",
      "\n",
      "R³ Verification:\n",
      "Dot(w1, w2): -0.000\n",
      "Dot(w1, w3): 0.000\n",
      "Dot(w2, w3): -0.000\n",
      "||w3|| = 1.000\n"
     ]
    }
   ],
   "source": [
    "# Verification in R³\n",
    "print(\"\\n--- R³ Orthonormal Basis Extension ---\")\n",
    "print(\"w1 (3D):\", w1_3d)\n",
    "print(\"w2 (3D):\", w2_3d)\n",
    "print(\"w3:\", w3)\n",
    "print(\"\\nR³ Verification:\")\n",
    "print(f\"Dot(w1, w2): {np.dot(w1_3d, w2_3d):.3f}\")\n",
    "print(f\"Dot(w1, w3): {np.dot(w1_3d, w3):.3f}\")\n",
    "print(f\"Dot(w2, w3): {np.dot(w2_3d, w3):.3f}\")\n",
    "print(f\"||w3|| = {np.linalg.norm(w3):.3f}\")"
   ]
  },
  {
   "cell_type": "markdown",
   "id": "68988c53",
   "metadata": {},
   "source": [
    "OpenAI. (2025). ChatGPT’s assistance with orthonormal basis derivation [Large language model]. https://openai.com/chatgpt"
   ]
  }
 ],
 "metadata": {
  "kernelspec": {
   "display_name": "base",
   "language": "python",
   "name": "python3"
  },
  "language_info": {
   "codemirror_mode": {
    "name": "ipython",
    "version": 3
   },
   "file_extension": ".py",
   "mimetype": "text/x-python",
   "name": "python",
   "nbconvert_exporter": "python",
   "pygments_lexer": "ipython3",
   "version": "3.11.9"
  }
 },
 "nbformat": 4,
 "nbformat_minor": 5
}
