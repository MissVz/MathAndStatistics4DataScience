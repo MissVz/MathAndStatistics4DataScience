{
 "cells": [
  {
   "cell_type": "markdown",
   "id": "62515dc7",
   "metadata": {},
   "source": [
    "# DS623 – PE05 – Eigendecomposition\n",
    "Topic: [Manual] Eigenvalues, Eigenvectors, Matrix Diagonalization and Power  \n",
    "Student: Verónica Elze"
   ]
  },
  {
   "cell_type": "code",
   "execution_count": 1,
   "id": "86278492",
   "metadata": {},
   "outputs": [],
   "source": [
    "import numpy as np\n",
    "import time"
   ]
  },
  {
   "cell_type": "markdown",
   "id": "d5fe8d3c",
   "metadata": {},
   "source": [
    "## Step 1: Define matrix A"
   ]
  },
  {
   "cell_type": "code",
   "execution_count": 2,
   "id": "a5b4f79e",
   "metadata": {},
   "outputs": [],
   "source": [
    "A = np.array([[-4, -3], [1, 0]])"
   ]
  },
  {
   "cell_type": "markdown",
   "id": "6450e2b2",
   "metadata": {},
   "source": [
    "## Step 2: Manually solve the characteristic polynomial\n",
    "det(A - λI) = 0 => find eigenvalues  \n",
    "A - λI = [[-4 - λ, -3], [1, -λ]]  \n",
    "determinant: (-4 - λ)(-λ) - (-3)(1) = λ² + 4λ + 3 = 0"
   ]
  },
  {
   "cell_type": "code",
   "execution_count": 3,
   "id": "c062e2ed",
   "metadata": {},
   "outputs": [
    {
     "name": "stdout",
     "output_type": "stream",
     "text": [
      "Eigenvalues (solved manually): [-3. -1.]\n"
     ]
    }
   ],
   "source": [
    "coeffs = [1, 4, 3]  # λ² + 4λ + 3  \n",
    "eigenvalues = np.roots(coeffs)  \n",
    "print(\"Eigenvalues (solved manually):\", eigenvalues)"
   ]
  },
  {
   "cell_type": "markdown",
   "id": "3ce10af5",
   "metadata": {},
   "source": [
    "## Step 3: Manually solve (A - λI)v = 0 for each eigenvalue"
   ]
  },
  {
   "cell_type": "code",
   "execution_count": 4,
   "id": "6b13af96",
   "metadata": {},
   "outputs": [],
   "source": [
    "eigenvectors = []\n",
    "\n",
    "for λ in eigenvalues:\n",
    "    A_minus_lambda_I = A - λ * np.identity(2)\n",
    "\n",
    "    # Use reduced row echelon logic to find null space (eigenvector)\n",
    "    # We'll pick one free variable = 1 to form a valid non-zero eigenvector\n",
    "    # Solve A_minus_lambda_I @ v = 0\n",
    "    # Use np.linalg.svd to get null space if desired, or solve manually\n",
    "    # For simplicity, solve (A - λI)v = 0 using 1 equation\n",
    "    \n",
    "    # Extract rows\n",
    "    row1 = A_minus_lambda_I[0]\n",
    "    \n",
    "    # Solve row1[0]*x + row1[1]*y = 0 → pick x = 1, solve for y\n",
    "    if abs(row1[1]) > 1e-10:\n",
    "        x = 1\n",
    "        y = -row1[0] / row1[1]\n",
    "    else:\n",
    "        y = 1\n",
    "        x = -row1[1] / row1[0]\n",
    "        \n",
    "    vec = np.array([x, y])\n",
    "    # Normalize for consistency\n",
    "    vec = vec / np.linalg.norm(vec)\n",
    "    eigenvectors.append(vec)"
   ]
  },
  {
   "cell_type": "markdown",
   "id": "4c049c35",
   "metadata": {},
   "source": [
    "## Step 4: Manually form matrix P and D"
   ]
  },
  {
   "cell_type": "code",
   "execution_count": 5,
   "id": "77cdb5d6",
   "metadata": {},
   "outputs": [
    {
     "name": "stdout",
     "output_type": "stream",
     "text": [
      "\n",
      "Eigenvectors (calculated manually, normalized):\n",
      "[[ 0.9486833   0.70710678]\n",
      " [-0.31622777 -0.70710678]]\n"
     ]
    }
   ],
   "source": [
    "P = np.column_stack(eigenvectors)  \n",
    "D = np.diag(eigenvalues)  \n",
    "P_inv = np.linalg.inv(P)\n",
    "\n",
    "print(\"\\nEigenvectors (calculated manually, normalized):\")  \n",
    "print(P)"
   ]
  },
  {
   "cell_type": "markdown",
   "id": "e8851b7c",
   "metadata": {},
   "source": [
    "## Step 5: Manually verify A = P D P⁻¹"
   ]
  },
  {
   "cell_type": "code",
   "execution_count": 6,
   "id": "d574b043",
   "metadata": {},
   "outputs": [
    {
     "name": "stdout",
     "output_type": "stream",
     "text": [
      "\n",
      "Reconstructed A (P D P⁻¹):\n",
      "[[-4.00000000e+00 -3.00000000e+00]\n",
      " [ 1.00000000e+00 -1.78135732e-16]]\n",
      "\n",
      "Verification (A - P D P⁻¹):\n",
      "[[ 0. -0.]\n",
      " [ 0.  0.]]\n"
     ]
    }
   ],
   "source": [
    "A_reconstructed = P @ D @ P_inv\n",
    "print(\"\\nReconstructed A (P D P⁻¹):\")\n",
    "print(A_reconstructed)\n",
    "\n",
    "print(\"\\nVerification (A - P D P⁻¹):\")\n",
    "print(np.round(A - A_reconstructed, decimals=10))"
   ]
  },
  {
   "cell_type": "markdown",
   "id": "98aa631b",
   "metadata": {},
   "source": [
    "OpenAI. (2025). ChatGPT’s assistance with eigendecomposition [Large language model]. https://openai.com/chatgpt"
   ]
  }
 ],
 "metadata": {
  "kernelspec": {
   "display_name": "base",
   "language": "python",
   "name": "python3"
  },
  "language_info": {
   "codemirror_mode": {
    "name": "ipython",
    "version": 3
   },
   "file_extension": ".py",
   "mimetype": "text/x-python",
   "name": "python",
   "nbconvert_exporter": "python",
   "pygments_lexer": "ipython3",
   "version": "3.11.9"
  }
 },
 "nbformat": 4,
 "nbformat_minor": 5
}
