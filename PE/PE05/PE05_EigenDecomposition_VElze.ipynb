{
 "cells": [
  {
   "cell_type": "markdown",
   "id": "62515dc7",
   "metadata": {},
   "source": [
    "# DS623 – PE05 – Eigendecomposition\n",
    "Topic: Eigenvalues, Eigenvectors, Matrix Diagonalization and Power  \n",
    "Student: Verónica Elze"
   ]
  },
  {
   "cell_type": "code",
   "execution_count": 1,
   "id": "86278492",
   "metadata": {},
   "outputs": [],
   "source": [
    "import numpy as np\n",
    "import time"
   ]
  },
  {
   "cell_type": "markdown",
   "id": "7fbddf11",
   "metadata": {},
   "source": [
    "## Step 1: Input matrix A"
   ]
  },
  {
   "cell_type": "code",
   "execution_count": 2,
   "id": "2958b2aa",
   "metadata": {},
   "outputs": [
    {
     "name": "stdout",
     "output_type": "stream",
     "text": [
      "Matrix A:\n",
      " [[-4 -3]\n",
      " [ 1  0]]\n"
     ]
    }
   ],
   "source": [
    "A = np.array([[-4, -3], [1, 0]])\n",
    "print(\"Matrix A:\\n\", A)"
   ]
  },
  {
   "cell_type": "markdown",
   "id": "e913f04b",
   "metadata": {},
   "source": [
    "## Step 2: Calculate eigenvalues and eigenvectors"
   ]
  },
  {
   "cell_type": "code",
   "execution_count": 3,
   "id": "f1cdb8c0",
   "metadata": {},
   "outputs": [],
   "source": [
    "eigenvalues, eigenvectors = np.linalg.eig(A)"
   ]
  },
  {
   "cell_type": "markdown",
   "id": "1fbebffa",
   "metadata": {},
   "source": [
    "## Step 3: Form matrix P from eigenvectors (columns) and diagonal matrix D from eigenvalues"
   ]
  },
  {
   "cell_type": "code",
   "execution_count": 4,
   "id": "164d3a98",
   "metadata": {},
   "outputs": [],
   "source": [
    "P = eigenvectors\n",
    "D = np.diag(eigenvalues)\n",
    "P_inv = np.linalg.inv(P)"
   ]
  },
  {
   "cell_type": "code",
   "execution_count": 5,
   "id": "8f98334f",
   "metadata": {},
   "outputs": [
    {
     "name": "stdout",
     "output_type": "stream",
     "text": [
      "\n",
      "Eigenvalues:\n",
      "[-3. -1.]\n"
     ]
    }
   ],
   "source": [
    "print(\"\\nEigenvalues:\")\n",
    "print(eigenvalues)"
   ]
  },
  {
   "cell_type": "code",
   "execution_count": 6,
   "id": "43dd8993",
   "metadata": {},
   "outputs": [
    {
     "name": "stdout",
     "output_type": "stream",
     "text": [
      "\n",
      "Eigenvectors (columns of matrix P):\n",
      "[[-0.9486833   0.70710678]\n",
      " [ 0.31622777 -0.70710678]]\n"
     ]
    }
   ],
   "source": [
    "print(\"\\nEigenvectors (columns of matrix P):\")\n",
    "print(P)"
   ]
  },
  {
   "cell_type": "markdown",
   "id": "51d06cc1",
   "metadata": {},
   "source": [
    "## Step 4: Verification: A = P D P⁻¹"
   ]
  },
  {
   "cell_type": "code",
   "execution_count": 7,
   "id": "d4016ffe",
   "metadata": {},
   "outputs": [],
   "source": [
    "A_reconstructed = P @ D @ P_inv"
   ]
  },
  {
   "cell_type": "code",
   "execution_count": 8,
   "id": "2c903872",
   "metadata": {},
   "outputs": [
    {
     "name": "stdout",
     "output_type": "stream",
     "text": [
      "\n",
      "Reconstructed A (PDP⁻¹):\n",
      "[[-4.00000000e+00 -3.00000000e+00]\n",
      " [ 1.00000000e+00 -4.80650139e-17]]\n"
     ]
    }
   ],
   "source": [
    "print(\"\\nReconstructed A (PDP⁻¹):\")\n",
    "print(A_reconstructed)"
   ]
  },
  {
   "cell_type": "code",
   "execution_count": 9,
   "id": "80caeddb",
   "metadata": {},
   "outputs": [
    {
     "name": "stdout",
     "output_type": "stream",
     "text": [
      "\n",
      "Verification (A - PDP⁻¹):\n",
      "[[0. 0.]\n",
      " [0. 0.]]\n"
     ]
    }
   ],
   "source": [
    "print(\"\\nVerification (A - PDP⁻¹):\")\n",
    "print(np.round(A - A_reconstructed, decimals=10))  # Should be near-zero matrix"
   ]
  },
  {
   "cell_type": "markdown",
   "id": "4b844db4",
   "metadata": {},
   "source": [
    "## Step 5 (Optional): Compare computing A^1000 vs P D^1000 P^-1"
   ]
  },
  {
   "cell_type": "code",
   "execution_count": 10,
   "id": "d0597cd9",
   "metadata": {},
   "outputs": [
    {
     "name": "stderr",
     "output_type": "stream",
     "text": [
      "c:\\Users\\MissV\\miniconda3\\Lib\\site-packages\\numpy\\linalg\\linalg.py:680: RuntimeWarning: overflow encountered in matmul\n",
      "  result = z if result is None else fmatmul(result, z)\n"
     ]
    }
   ],
   "source": [
    "exp = 1000\n",
    "A_pow = np.linalg.matrix_power(A, exp)\n",
    "D_pow = np.linalg.matrix_power(D, exp)\n",
    "A_diag_pow = P @ D_pow @ P_inv"
   ]
  },
  {
   "cell_type": "code",
   "execution_count": 11,
   "id": "6ea776b6",
   "metadata": {},
   "outputs": [
    {
     "name": "stdout",
     "output_type": "stream",
     "text": [
      "\n",
      "A^1000 (direct):\n",
      "[[-1114339151 -1114339152]\n",
      " [  371446384   371446385]]\n"
     ]
    }
   ],
   "source": [
    "print(f\"\\nA^{exp} (direct):\")\n",
    "print(A_pow)"
   ]
  },
  {
   "cell_type": "code",
   "execution_count": 12,
   "id": "3c10e029",
   "metadata": {},
   "outputs": [
    {
     "name": "stdout",
     "output_type": "stream",
     "text": [
      "\n",
      "A^1000 (via diagonalization):\n",
      "[[-2147483648 -2147483648]\n",
      " [-2147483648 -2147483648]]\n"
     ]
    },
    {
     "name": "stderr",
     "output_type": "stream",
     "text": [
      "C:\\Users\\MissV\\AppData\\Local\\Temp\\ipykernel_22604\\366381188.py:2: RuntimeWarning: invalid value encountered in cast\n",
      "  print(np.round(A_diag_pow).astype(int))  # Rounded and converted for clean display\n"
     ]
    }
   ],
   "source": [
    "print(f\"\\nA^{exp} (via diagonalization):\")\n",
    "print(np.round(A_diag_pow).astype(int))  # Rounded and converted for clean display"
   ]
  },
  {
   "cell_type": "markdown",
   "id": "98aa631b",
   "metadata": {},
   "source": [
    "OpenAI. (2025). ChatGPT’s assistance with eigendecomposition [Large language model]. https://openai.com/chatgpt"
   ]
  }
 ],
 "metadata": {
  "kernelspec": {
   "display_name": "base",
   "language": "python",
   "name": "python3"
  },
  "language_info": {
   "codemirror_mode": {
    "name": "ipython",
    "version": 3
   },
   "file_extension": ".py",
   "mimetype": "text/x-python",
   "name": "python",
   "nbconvert_exporter": "python",
   "pygments_lexer": "ipython3",
   "version": "3.11.9"
  }
 },
 "nbformat": 4,
 "nbformat_minor": 5
}
