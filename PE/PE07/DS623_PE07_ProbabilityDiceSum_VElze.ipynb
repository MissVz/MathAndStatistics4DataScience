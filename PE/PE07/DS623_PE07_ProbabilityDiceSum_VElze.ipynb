{
 "cells": [
  {
   "cell_type": "markdown",
   "id": "faf2b4a4",
   "metadata": {},
   "source": [
    "# DS623 PE07 – Probability of Dice Sum Simulation"
   ]
  },
  {
   "cell_type": "markdown",
   "id": "7b60103c",
   "metadata": {},
   "source": [
    "Topic: Discrete and Continuous Probabilities  \n",
    "Student: Verónica Elze"
   ]
  },
  {
   "cell_type": "markdown",
   "id": "e1467cd0",
   "metadata": {},
   "source": [
    "## Imports & Setup"
   ]
  },
  {
   "cell_type": "code",
   "execution_count": 8,
   "id": "861cee0a",
   "metadata": {},
   "outputs": [],
   "source": [
    "import random\n",
    "from fractions import Fraction"
   ]
  },
  {
   "cell_type": "code",
   "execution_count": 9,
   "id": "f10feeb5",
   "metadata": {},
   "outputs": [],
   "source": [
    "# Dice face representations\n",
    "dice_faces = {\n",
    "    1: \"⚀\", 2: \"⚁\", 3: \"⚂\", 4: \"⚃\", 5: \"⚄\", 6: \"⚅\"\n",
    "}"
   ]
  },
  {
   "cell_type": "code",
   "execution_count": 10,
   "id": "68150908",
   "metadata": {},
   "outputs": [],
   "source": [
    "from IPython.display import display, HTML\n",
    "\n",
    "def display_medium_dice(d1, d2):\n",
    "    display(HTML(f\"\"\"\n",
    "    <div style='font-size:28px; line-height:1.2;'>{dice_faces[d1]} + {dice_faces[d2]} = {d1} + {d2} = {d1 + d2}</div>\n",
    "    \"\"\"))"
   ]
  },
  {
   "cell_type": "markdown",
   "id": "abe57308",
   "metadata": {},
   "source": [
    "## === Task 1: Get user input ==="
   ]
  },
  {
   "cell_type": "code",
   "execution_count": 11,
   "id": "dd55569e",
   "metadata": {},
   "outputs": [
    {
     "name": "stdout",
     "output_type": "stream",
     "text": [
      "❌ Invalid input 'a'. Please enter a number between 2 and 12 or 'q' to quit.\n",
      "❌ Invalid input '!'. Please enter a number between 2 and 12 or 'q' to quit.\n",
      "❌ Invalid input ''. Please enter a number between 2 and 12 or 'q' to quit.\n",
      "You entered: 8\n",
      "✅ Task 1 complete: Valid input received.\n"
     ]
    }
   ],
   "source": [
    "while True:\n",
    "    user_input_str = input(\"Enter a number between 2 and 12 (or 'q' to quit): \").strip().lower()\n",
    "\n",
    "    if user_input_str == 'q':\n",
    "        print(\"Exiting program. Goodbye!\")\n",
    "        exit()\n",
    "\n",
    "    if user_input_str.isdigit():\n",
    "        user_input = int(user_input_str)\n",
    "        if 2 <= user_input <= 12:\n",
    "            print(f\"You entered: {user_input}\")\n",
    "            break\n",
    "        else:\n",
    "            print(f\"❌ Invalid input '{user_input_str}'. Number out of range. Please enter a number between 2 and 12.\")\n",
    "    else:\n",
    "        print(f\"❌ Invalid input '{user_input_str}'. Please enter a number between 2 and 12 or 'q' to quit.\")\n",
    "\n",
    "print(\"✅ Task 1 complete: Valid input received.\")"
   ]
  },
  {
   "cell_type": "markdown",
   "id": "42c9d2d0",
   "metadata": {},
   "source": [
    "## === Task 2: Simulate 100 tosses of two dice ==="
   ]
  },
  {
   "cell_type": "code",
   "execution_count": 12,
   "id": "1cc67860",
   "metadata": {},
   "outputs": [],
   "source": [
    "trials = 100\n",
    "tosses = []\n",
    "target_sum_count = 0"
   ]
  },
  {
   "cell_type": "code",
   "execution_count": 13,
   "id": "18a4f5cd",
   "metadata": {},
   "outputs": [
    {
     "name": "stdout",
     "output_type": "stream",
     "text": [
      "\n",
      "Simulating 100 dice tosses with visual output:\n"
     ]
    },
    {
     "data": {
      "text/html": [
       "\n",
       "    <div style='font-size:28px; line-height:1.2;'>⚅ + ⚀ = 6 + 1 = 7</div>\n",
       "    "
      ],
      "text/plain": [
       "<IPython.core.display.HTML object>"
      ]
     },
     "metadata": {},
     "output_type": "display_data"
    },
    {
     "data": {
      "text/html": [
       "\n",
       "    <div style='font-size:28px; line-height:1.2;'>⚃ + ⚁ = 4 + 2 = 6</div>\n",
       "    "
      ],
      "text/plain": [
       "<IPython.core.display.HTML object>"
      ]
     },
     "metadata": {},
     "output_type": "display_data"
    },
    {
     "data": {
      "text/html": [
       "\n",
       "    <div style='font-size:28px; line-height:1.2;'>⚀ + ⚁ = 1 + 2 = 3</div>\n",
       "    "
      ],
      "text/plain": [
       "<IPython.core.display.HTML object>"
      ]
     },
     "metadata": {},
     "output_type": "display_data"
    },
    {
     "data": {
      "text/html": [
       "\n",
       "    <div style='font-size:28px; line-height:1.2;'>⚀ + ⚀ = 1 + 1 = 2</div>\n",
       "    "
      ],
      "text/plain": [
       "<IPython.core.display.HTML object>"
      ]
     },
     "metadata": {},
     "output_type": "display_data"
    },
    {
     "data": {
      "text/html": [
       "\n",
       "    <div style='font-size:28px; line-height:1.2;'>⚃ + ⚀ = 4 + 1 = 5</div>\n",
       "    "
      ],
      "text/plain": [
       "<IPython.core.display.HTML object>"
      ]
     },
     "metadata": {},
     "output_type": "display_data"
    },
    {
     "data": {
      "text/html": [
       "\n",
       "    <div style='font-size:28px; line-height:1.2;'>⚃ + ⚄ = 4 + 5 = 9</div>\n",
       "    "
      ],
      "text/plain": [
       "<IPython.core.display.HTML object>"
      ]
     },
     "metadata": {},
     "output_type": "display_data"
    },
    {
     "data": {
      "text/html": [
       "\n",
       "    <div style='font-size:28px; line-height:1.2;'>⚁ + ⚀ = 2 + 1 = 3</div>\n",
       "    "
      ],
      "text/plain": [
       "<IPython.core.display.HTML object>"
      ]
     },
     "metadata": {},
     "output_type": "display_data"
    },
    {
     "data": {
      "text/html": [
       "\n",
       "    <div style='font-size:28px; line-height:1.2;'>⚂ + ⚁ = 3 + 2 = 5</div>\n",
       "    "
      ],
      "text/plain": [
       "<IPython.core.display.HTML object>"
      ]
     },
     "metadata": {},
     "output_type": "display_data"
    },
    {
     "data": {
      "text/html": [
       "\n",
       "    <div style='font-size:28px; line-height:1.2;'>⚅ + ⚅ = 6 + 6 = 12</div>\n",
       "    "
      ],
      "text/plain": [
       "<IPython.core.display.HTML object>"
      ]
     },
     "metadata": {},
     "output_type": "display_data"
    },
    {
     "data": {
      "text/html": [
       "\n",
       "    <div style='font-size:28px; line-height:1.2;'>⚃ + ⚄ = 4 + 5 = 9</div>\n",
       "    "
      ],
      "text/plain": [
       "<IPython.core.display.HTML object>"
      ]
     },
     "metadata": {},
     "output_type": "display_data"
    },
    {
     "data": {
      "text/html": [
       "\n",
       "    <div style='font-size:28px; line-height:1.2;'>⚅ + ⚂ = 6 + 3 = 9</div>\n",
       "    "
      ],
      "text/plain": [
       "<IPython.core.display.HTML object>"
      ]
     },
     "metadata": {},
     "output_type": "display_data"
    },
    {
     "data": {
      "text/html": [
       "\n",
       "    <div style='font-size:28px; line-height:1.2;'>⚃ + ⚄ = 4 + 5 = 9</div>\n",
       "    "
      ],
      "text/plain": [
       "<IPython.core.display.HTML object>"
      ]
     },
     "metadata": {},
     "output_type": "display_data"
    },
    {
     "data": {
      "text/html": [
       "\n",
       "    <div style='font-size:28px; line-height:1.2;'>⚁ + ⚀ = 2 + 1 = 3</div>\n",
       "    "
      ],
      "text/plain": [
       "<IPython.core.display.HTML object>"
      ]
     },
     "metadata": {},
     "output_type": "display_data"
    },
    {
     "data": {
      "text/html": [
       "\n",
       "    <div style='font-size:28px; line-height:1.2;'>⚀ + ⚃ = 1 + 4 = 5</div>\n",
       "    "
      ],
      "text/plain": [
       "<IPython.core.display.HTML object>"
      ]
     },
     "metadata": {},
     "output_type": "display_data"
    },
    {
     "data": {
      "text/html": [
       "\n",
       "    <div style='font-size:28px; line-height:1.2;'>⚁ + ⚁ = 2 + 2 = 4</div>\n",
       "    "
      ],
      "text/plain": [
       "<IPython.core.display.HTML object>"
      ]
     },
     "metadata": {},
     "output_type": "display_data"
    },
    {
     "data": {
      "text/html": [
       "\n",
       "    <div style='font-size:28px; line-height:1.2;'>⚀ + ⚀ = 1 + 1 = 2</div>\n",
       "    "
      ],
      "text/plain": [
       "<IPython.core.display.HTML object>"
      ]
     },
     "metadata": {},
     "output_type": "display_data"
    },
    {
     "data": {
      "text/html": [
       "\n",
       "    <div style='font-size:28px; line-height:1.2;'>⚄ + ⚂ = 5 + 3 = 8</div>\n",
       "    "
      ],
      "text/plain": [
       "<IPython.core.display.HTML object>"
      ]
     },
     "metadata": {},
     "output_type": "display_data"
    },
    {
     "data": {
      "text/html": [
       "\n",
       "    <div style='font-size:28px; line-height:1.2;'>⚂ + ⚅ = 3 + 6 = 9</div>\n",
       "    "
      ],
      "text/plain": [
       "<IPython.core.display.HTML object>"
      ]
     },
     "metadata": {},
     "output_type": "display_data"
    },
    {
     "data": {
      "text/html": [
       "\n",
       "    <div style='font-size:28px; line-height:1.2;'>⚃ + ⚄ = 4 + 5 = 9</div>\n",
       "    "
      ],
      "text/plain": [
       "<IPython.core.display.HTML object>"
      ]
     },
     "metadata": {},
     "output_type": "display_data"
    },
    {
     "data": {
      "text/html": [
       "\n",
       "    <div style='font-size:28px; line-height:1.2;'>⚃ + ⚁ = 4 + 2 = 6</div>\n",
       "    "
      ],
      "text/plain": [
       "<IPython.core.display.HTML object>"
      ]
     },
     "metadata": {},
     "output_type": "display_data"
    },
    {
     "data": {
      "text/html": [
       "\n",
       "    <div style='font-size:28px; line-height:1.2;'>⚃ + ⚁ = 4 + 2 = 6</div>\n",
       "    "
      ],
      "text/plain": [
       "<IPython.core.display.HTML object>"
      ]
     },
     "metadata": {},
     "output_type": "display_data"
    },
    {
     "data": {
      "text/html": [
       "\n",
       "    <div style='font-size:28px; line-height:1.2;'>⚃ + ⚁ = 4 + 2 = 6</div>\n",
       "    "
      ],
      "text/plain": [
       "<IPython.core.display.HTML object>"
      ]
     },
     "metadata": {},
     "output_type": "display_data"
    },
    {
     "data": {
      "text/html": [
       "\n",
       "    <div style='font-size:28px; line-height:1.2;'>⚃ + ⚁ = 4 + 2 = 6</div>\n",
       "    "
      ],
      "text/plain": [
       "<IPython.core.display.HTML object>"
      ]
     },
     "metadata": {},
     "output_type": "display_data"
    },
    {
     "data": {
      "text/html": [
       "\n",
       "    <div style='font-size:28px; line-height:1.2;'>⚀ + ⚁ = 1 + 2 = 3</div>\n",
       "    "
      ],
      "text/plain": [
       "<IPython.core.display.HTML object>"
      ]
     },
     "metadata": {},
     "output_type": "display_data"
    },
    {
     "data": {
      "text/html": [
       "\n",
       "    <div style='font-size:28px; line-height:1.2;'>⚁ + ⚅ = 2 + 6 = 8</div>\n",
       "    "
      ],
      "text/plain": [
       "<IPython.core.display.HTML object>"
      ]
     },
     "metadata": {},
     "output_type": "display_data"
    },
    {
     "name": "stdout",
     "output_type": "stream",
     "text": [
      "\n",
      "--- 25 tosses completed ---\n",
      "\n"
     ]
    },
    {
     "data": {
      "text/html": [
       "\n",
       "    <div style='font-size:28px; line-height:1.2;'>⚀ + ⚄ = 1 + 5 = 6</div>\n",
       "    "
      ],
      "text/plain": [
       "<IPython.core.display.HTML object>"
      ]
     },
     "metadata": {},
     "output_type": "display_data"
    },
    {
     "data": {
      "text/html": [
       "\n",
       "    <div style='font-size:28px; line-height:1.2;'>⚄ + ⚅ = 5 + 6 = 11</div>\n",
       "    "
      ],
      "text/plain": [
       "<IPython.core.display.HTML object>"
      ]
     },
     "metadata": {},
     "output_type": "display_data"
    },
    {
     "data": {
      "text/html": [
       "\n",
       "    <div style='font-size:28px; line-height:1.2;'>⚃ + ⚄ = 4 + 5 = 9</div>\n",
       "    "
      ],
      "text/plain": [
       "<IPython.core.display.HTML object>"
      ]
     },
     "metadata": {},
     "output_type": "display_data"
    },
    {
     "data": {
      "text/html": [
       "\n",
       "    <div style='font-size:28px; line-height:1.2;'>⚀ + ⚂ = 1 + 3 = 4</div>\n",
       "    "
      ],
      "text/plain": [
       "<IPython.core.display.HTML object>"
      ]
     },
     "metadata": {},
     "output_type": "display_data"
    },
    {
     "data": {
      "text/html": [
       "\n",
       "    <div style='font-size:28px; line-height:1.2;'>⚃ + ⚄ = 4 + 5 = 9</div>\n",
       "    "
      ],
      "text/plain": [
       "<IPython.core.display.HTML object>"
      ]
     },
     "metadata": {},
     "output_type": "display_data"
    },
    {
     "data": {
      "text/html": [
       "\n",
       "    <div style='font-size:28px; line-height:1.2;'>⚃ + ⚁ = 4 + 2 = 6</div>\n",
       "    "
      ],
      "text/plain": [
       "<IPython.core.display.HTML object>"
      ]
     },
     "metadata": {},
     "output_type": "display_data"
    },
    {
     "data": {
      "text/html": [
       "\n",
       "    <div style='font-size:28px; line-height:1.2;'>⚃ + ⚃ = 4 + 4 = 8</div>\n",
       "    "
      ],
      "text/plain": [
       "<IPython.core.display.HTML object>"
      ]
     },
     "metadata": {},
     "output_type": "display_data"
    },
    {
     "data": {
      "text/html": [
       "\n",
       "    <div style='font-size:28px; line-height:1.2;'>⚀ + ⚂ = 1 + 3 = 4</div>\n",
       "    "
      ],
      "text/plain": [
       "<IPython.core.display.HTML object>"
      ]
     },
     "metadata": {},
     "output_type": "display_data"
    },
    {
     "data": {
      "text/html": [
       "\n",
       "    <div style='font-size:28px; line-height:1.2;'>⚁ + ⚁ = 2 + 2 = 4</div>\n",
       "    "
      ],
      "text/plain": [
       "<IPython.core.display.HTML object>"
      ]
     },
     "metadata": {},
     "output_type": "display_data"
    },
    {
     "data": {
      "text/html": [
       "\n",
       "    <div style='font-size:28px; line-height:1.2;'>⚀ + ⚂ = 1 + 3 = 4</div>\n",
       "    "
      ],
      "text/plain": [
       "<IPython.core.display.HTML object>"
      ]
     },
     "metadata": {},
     "output_type": "display_data"
    },
    {
     "data": {
      "text/html": [
       "\n",
       "    <div style='font-size:28px; line-height:1.2;'>⚀ + ⚃ = 1 + 4 = 5</div>\n",
       "    "
      ],
      "text/plain": [
       "<IPython.core.display.HTML object>"
      ]
     },
     "metadata": {},
     "output_type": "display_data"
    },
    {
     "data": {
      "text/html": [
       "\n",
       "    <div style='font-size:28px; line-height:1.2;'>⚁ + ⚂ = 2 + 3 = 5</div>\n",
       "    "
      ],
      "text/plain": [
       "<IPython.core.display.HTML object>"
      ]
     },
     "metadata": {},
     "output_type": "display_data"
    },
    {
     "data": {
      "text/html": [
       "\n",
       "    <div style='font-size:28px; line-height:1.2;'>⚀ + ⚅ = 1 + 6 = 7</div>\n",
       "    "
      ],
      "text/plain": [
       "<IPython.core.display.HTML object>"
      ]
     },
     "metadata": {},
     "output_type": "display_data"
    },
    {
     "data": {
      "text/html": [
       "\n",
       "    <div style='font-size:28px; line-height:1.2;'>⚁ + ⚃ = 2 + 4 = 6</div>\n",
       "    "
      ],
      "text/plain": [
       "<IPython.core.display.HTML object>"
      ]
     },
     "metadata": {},
     "output_type": "display_data"
    },
    {
     "data": {
      "text/html": [
       "\n",
       "    <div style='font-size:28px; line-height:1.2;'>⚅ + ⚃ = 6 + 4 = 10</div>\n",
       "    "
      ],
      "text/plain": [
       "<IPython.core.display.HTML object>"
      ]
     },
     "metadata": {},
     "output_type": "display_data"
    },
    {
     "data": {
      "text/html": [
       "\n",
       "    <div style='font-size:28px; line-height:1.2;'>⚄ + ⚂ = 5 + 3 = 8</div>\n",
       "    "
      ],
      "text/plain": [
       "<IPython.core.display.HTML object>"
      ]
     },
     "metadata": {},
     "output_type": "display_data"
    },
    {
     "data": {
      "text/html": [
       "\n",
       "    <div style='font-size:28px; line-height:1.2;'>⚁ + ⚂ = 2 + 3 = 5</div>\n",
       "    "
      ],
      "text/plain": [
       "<IPython.core.display.HTML object>"
      ]
     },
     "metadata": {},
     "output_type": "display_data"
    },
    {
     "data": {
      "text/html": [
       "\n",
       "    <div style='font-size:28px; line-height:1.2;'>⚀ + ⚂ = 1 + 3 = 4</div>\n",
       "    "
      ],
      "text/plain": [
       "<IPython.core.display.HTML object>"
      ]
     },
     "metadata": {},
     "output_type": "display_data"
    },
    {
     "data": {
      "text/html": [
       "\n",
       "    <div style='font-size:28px; line-height:1.2;'>⚁ + ⚄ = 2 + 5 = 7</div>\n",
       "    "
      ],
      "text/plain": [
       "<IPython.core.display.HTML object>"
      ]
     },
     "metadata": {},
     "output_type": "display_data"
    },
    {
     "data": {
      "text/html": [
       "\n",
       "    <div style='font-size:28px; line-height:1.2;'>⚂ + ⚁ = 3 + 2 = 5</div>\n",
       "    "
      ],
      "text/plain": [
       "<IPython.core.display.HTML object>"
      ]
     },
     "metadata": {},
     "output_type": "display_data"
    },
    {
     "data": {
      "text/html": [
       "\n",
       "    <div style='font-size:28px; line-height:1.2;'>⚁ + ⚂ = 2 + 3 = 5</div>\n",
       "    "
      ],
      "text/plain": [
       "<IPython.core.display.HTML object>"
      ]
     },
     "metadata": {},
     "output_type": "display_data"
    },
    {
     "data": {
      "text/html": [
       "\n",
       "    <div style='font-size:28px; line-height:1.2;'>⚁ + ⚅ = 2 + 6 = 8</div>\n",
       "    "
      ],
      "text/plain": [
       "<IPython.core.display.HTML object>"
      ]
     },
     "metadata": {},
     "output_type": "display_data"
    },
    {
     "data": {
      "text/html": [
       "\n",
       "    <div style='font-size:28px; line-height:1.2;'>⚀ + ⚅ = 1 + 6 = 7</div>\n",
       "    "
      ],
      "text/plain": [
       "<IPython.core.display.HTML object>"
      ]
     },
     "metadata": {},
     "output_type": "display_data"
    },
    {
     "data": {
      "text/html": [
       "\n",
       "    <div style='font-size:28px; line-height:1.2;'>⚁ + ⚅ = 2 + 6 = 8</div>\n",
       "    "
      ],
      "text/plain": [
       "<IPython.core.display.HTML object>"
      ]
     },
     "metadata": {},
     "output_type": "display_data"
    },
    {
     "data": {
      "text/html": [
       "\n",
       "    <div style='font-size:28px; line-height:1.2;'>⚅ + ⚂ = 6 + 3 = 9</div>\n",
       "    "
      ],
      "text/plain": [
       "<IPython.core.display.HTML object>"
      ]
     },
     "metadata": {},
     "output_type": "display_data"
    },
    {
     "name": "stdout",
     "output_type": "stream",
     "text": [
      "\n",
      "--- 50 tosses completed ---\n",
      "\n"
     ]
    },
    {
     "data": {
      "text/html": [
       "\n",
       "    <div style='font-size:28px; line-height:1.2;'>⚁ + ⚃ = 2 + 4 = 6</div>\n",
       "    "
      ],
      "text/plain": [
       "<IPython.core.display.HTML object>"
      ]
     },
     "metadata": {},
     "output_type": "display_data"
    },
    {
     "data": {
      "text/html": [
       "\n",
       "    <div style='font-size:28px; line-height:1.2;'>⚂ + ⚀ = 3 + 1 = 4</div>\n",
       "    "
      ],
      "text/plain": [
       "<IPython.core.display.HTML object>"
      ]
     },
     "metadata": {},
     "output_type": "display_data"
    },
    {
     "data": {
      "text/html": [
       "\n",
       "    <div style='font-size:28px; line-height:1.2;'>⚂ + ⚁ = 3 + 2 = 5</div>\n",
       "    "
      ],
      "text/plain": [
       "<IPython.core.display.HTML object>"
      ]
     },
     "metadata": {},
     "output_type": "display_data"
    },
    {
     "data": {
      "text/html": [
       "\n",
       "    <div style='font-size:28px; line-height:1.2;'>⚂ + ⚁ = 3 + 2 = 5</div>\n",
       "    "
      ],
      "text/plain": [
       "<IPython.core.display.HTML object>"
      ]
     },
     "metadata": {},
     "output_type": "display_data"
    },
    {
     "data": {
      "text/html": [
       "\n",
       "    <div style='font-size:28px; line-height:1.2;'>⚀ + ⚄ = 1 + 5 = 6</div>\n",
       "    "
      ],
      "text/plain": [
       "<IPython.core.display.HTML object>"
      ]
     },
     "metadata": {},
     "output_type": "display_data"
    },
    {
     "data": {
      "text/html": [
       "\n",
       "    <div style='font-size:28px; line-height:1.2;'>⚀ + ⚁ = 1 + 2 = 3</div>\n",
       "    "
      ],
      "text/plain": [
       "<IPython.core.display.HTML object>"
      ]
     },
     "metadata": {},
     "output_type": "display_data"
    },
    {
     "data": {
      "text/html": [
       "\n",
       "    <div style='font-size:28px; line-height:1.2;'>⚃ + ⚁ = 4 + 2 = 6</div>\n",
       "    "
      ],
      "text/plain": [
       "<IPython.core.display.HTML object>"
      ]
     },
     "metadata": {},
     "output_type": "display_data"
    },
    {
     "data": {
      "text/html": [
       "\n",
       "    <div style='font-size:28px; line-height:1.2;'>⚄ + ⚃ = 5 + 4 = 9</div>\n",
       "    "
      ],
      "text/plain": [
       "<IPython.core.display.HTML object>"
      ]
     },
     "metadata": {},
     "output_type": "display_data"
    },
    {
     "data": {
      "text/html": [
       "\n",
       "    <div style='font-size:28px; line-height:1.2;'>⚄ + ⚀ = 5 + 1 = 6</div>\n",
       "    "
      ],
      "text/plain": [
       "<IPython.core.display.HTML object>"
      ]
     },
     "metadata": {},
     "output_type": "display_data"
    },
    {
     "data": {
      "text/html": [
       "\n",
       "    <div style='font-size:28px; line-height:1.2;'>⚁ + ⚄ = 2 + 5 = 7</div>\n",
       "    "
      ],
      "text/plain": [
       "<IPython.core.display.HTML object>"
      ]
     },
     "metadata": {},
     "output_type": "display_data"
    },
    {
     "data": {
      "text/html": [
       "\n",
       "    <div style='font-size:28px; line-height:1.2;'>⚄ + ⚀ = 5 + 1 = 6</div>\n",
       "    "
      ],
      "text/plain": [
       "<IPython.core.display.HTML object>"
      ]
     },
     "metadata": {},
     "output_type": "display_data"
    },
    {
     "data": {
      "text/html": [
       "\n",
       "    <div style='font-size:28px; line-height:1.2;'>⚅ + ⚀ = 6 + 1 = 7</div>\n",
       "    "
      ],
      "text/plain": [
       "<IPython.core.display.HTML object>"
      ]
     },
     "metadata": {},
     "output_type": "display_data"
    },
    {
     "data": {
      "text/html": [
       "\n",
       "    <div style='font-size:28px; line-height:1.2;'>⚃ + ⚁ = 4 + 2 = 6</div>\n",
       "    "
      ],
      "text/plain": [
       "<IPython.core.display.HTML object>"
      ]
     },
     "metadata": {},
     "output_type": "display_data"
    },
    {
     "data": {
      "text/html": [
       "\n",
       "    <div style='font-size:28px; line-height:1.2;'>⚃ + ⚅ = 4 + 6 = 10</div>\n",
       "    "
      ],
      "text/plain": [
       "<IPython.core.display.HTML object>"
      ]
     },
     "metadata": {},
     "output_type": "display_data"
    },
    {
     "data": {
      "text/html": [
       "\n",
       "    <div style='font-size:28px; line-height:1.2;'>⚀ + ⚁ = 1 + 2 = 3</div>\n",
       "    "
      ],
      "text/plain": [
       "<IPython.core.display.HTML object>"
      ]
     },
     "metadata": {},
     "output_type": "display_data"
    },
    {
     "data": {
      "text/html": [
       "\n",
       "    <div style='font-size:28px; line-height:1.2;'>⚃ + ⚅ = 4 + 6 = 10</div>\n",
       "    "
      ],
      "text/plain": [
       "<IPython.core.display.HTML object>"
      ]
     },
     "metadata": {},
     "output_type": "display_data"
    },
    {
     "data": {
      "text/html": [
       "\n",
       "    <div style='font-size:28px; line-height:1.2;'>⚄ + ⚃ = 5 + 4 = 9</div>\n",
       "    "
      ],
      "text/plain": [
       "<IPython.core.display.HTML object>"
      ]
     },
     "metadata": {},
     "output_type": "display_data"
    },
    {
     "data": {
      "text/html": [
       "\n",
       "    <div style='font-size:28px; line-height:1.2;'>⚃ + ⚅ = 4 + 6 = 10</div>\n",
       "    "
      ],
      "text/plain": [
       "<IPython.core.display.HTML object>"
      ]
     },
     "metadata": {},
     "output_type": "display_data"
    },
    {
     "data": {
      "text/html": [
       "\n",
       "    <div style='font-size:28px; line-height:1.2;'>⚅ + ⚁ = 6 + 2 = 8</div>\n",
       "    "
      ],
      "text/plain": [
       "<IPython.core.display.HTML object>"
      ]
     },
     "metadata": {},
     "output_type": "display_data"
    },
    {
     "data": {
      "text/html": [
       "\n",
       "    <div style='font-size:28px; line-height:1.2;'>⚂ + ⚄ = 3 + 5 = 8</div>\n",
       "    "
      ],
      "text/plain": [
       "<IPython.core.display.HTML object>"
      ]
     },
     "metadata": {},
     "output_type": "display_data"
    },
    {
     "data": {
      "text/html": [
       "\n",
       "    <div style='font-size:28px; line-height:1.2;'>⚃ + ⚅ = 4 + 6 = 10</div>\n",
       "    "
      ],
      "text/plain": [
       "<IPython.core.display.HTML object>"
      ]
     },
     "metadata": {},
     "output_type": "display_data"
    },
    {
     "data": {
      "text/html": [
       "\n",
       "    <div style='font-size:28px; line-height:1.2;'>⚅ + ⚁ = 6 + 2 = 8</div>\n",
       "    "
      ],
      "text/plain": [
       "<IPython.core.display.HTML object>"
      ]
     },
     "metadata": {},
     "output_type": "display_data"
    },
    {
     "data": {
      "text/html": [
       "\n",
       "    <div style='font-size:28px; line-height:1.2;'>⚀ + ⚄ = 1 + 5 = 6</div>\n",
       "    "
      ],
      "text/plain": [
       "<IPython.core.display.HTML object>"
      ]
     },
     "metadata": {},
     "output_type": "display_data"
    },
    {
     "data": {
      "text/html": [
       "\n",
       "    <div style='font-size:28px; line-height:1.2;'>⚅ + ⚀ = 6 + 1 = 7</div>\n",
       "    "
      ],
      "text/plain": [
       "<IPython.core.display.HTML object>"
      ]
     },
     "metadata": {},
     "output_type": "display_data"
    },
    {
     "data": {
      "text/html": [
       "\n",
       "    <div style='font-size:28px; line-height:1.2;'>⚁ + ⚂ = 2 + 3 = 5</div>\n",
       "    "
      ],
      "text/plain": [
       "<IPython.core.display.HTML object>"
      ]
     },
     "metadata": {},
     "output_type": "display_data"
    },
    {
     "name": "stdout",
     "output_type": "stream",
     "text": [
      "\n",
      "--- 75 tosses completed ---\n",
      "\n"
     ]
    },
    {
     "data": {
      "text/html": [
       "\n",
       "    <div style='font-size:28px; line-height:1.2;'>⚃ + ⚃ = 4 + 4 = 8</div>\n",
       "    "
      ],
      "text/plain": [
       "<IPython.core.display.HTML object>"
      ]
     },
     "metadata": {},
     "output_type": "display_data"
    },
    {
     "data": {
      "text/html": [
       "\n",
       "    <div style='font-size:28px; line-height:1.2;'>⚅ + ⚅ = 6 + 6 = 12</div>\n",
       "    "
      ],
      "text/plain": [
       "<IPython.core.display.HTML object>"
      ]
     },
     "metadata": {},
     "output_type": "display_data"
    },
    {
     "data": {
      "text/html": [
       "\n",
       "    <div style='font-size:28px; line-height:1.2;'>⚅ + ⚂ = 6 + 3 = 9</div>\n",
       "    "
      ],
      "text/plain": [
       "<IPython.core.display.HTML object>"
      ]
     },
     "metadata": {},
     "output_type": "display_data"
    },
    {
     "data": {
      "text/html": [
       "\n",
       "    <div style='font-size:28px; line-height:1.2;'>⚃ + ⚁ = 4 + 2 = 6</div>\n",
       "    "
      ],
      "text/plain": [
       "<IPython.core.display.HTML object>"
      ]
     },
     "metadata": {},
     "output_type": "display_data"
    },
    {
     "data": {
      "text/html": [
       "\n",
       "    <div style='font-size:28px; line-height:1.2;'>⚁ + ⚂ = 2 + 3 = 5</div>\n",
       "    "
      ],
      "text/plain": [
       "<IPython.core.display.HTML object>"
      ]
     },
     "metadata": {},
     "output_type": "display_data"
    },
    {
     "data": {
      "text/html": [
       "\n",
       "    <div style='font-size:28px; line-height:1.2;'>⚅ + ⚁ = 6 + 2 = 8</div>\n",
       "    "
      ],
      "text/plain": [
       "<IPython.core.display.HTML object>"
      ]
     },
     "metadata": {},
     "output_type": "display_data"
    },
    {
     "data": {
      "text/html": [
       "\n",
       "    <div style='font-size:28px; line-height:1.2;'>⚃ + ⚃ = 4 + 4 = 8</div>\n",
       "    "
      ],
      "text/plain": [
       "<IPython.core.display.HTML object>"
      ]
     },
     "metadata": {},
     "output_type": "display_data"
    },
    {
     "data": {
      "text/html": [
       "\n",
       "    <div style='font-size:28px; line-height:1.2;'>⚁ + ⚁ = 2 + 2 = 4</div>\n",
       "    "
      ],
      "text/plain": [
       "<IPython.core.display.HTML object>"
      ]
     },
     "metadata": {},
     "output_type": "display_data"
    },
    {
     "data": {
      "text/html": [
       "\n",
       "    <div style='font-size:28px; line-height:1.2;'>⚄ + ⚂ = 5 + 3 = 8</div>\n",
       "    "
      ],
      "text/plain": [
       "<IPython.core.display.HTML object>"
      ]
     },
     "metadata": {},
     "output_type": "display_data"
    },
    {
     "data": {
      "text/html": [
       "\n",
       "    <div style='font-size:28px; line-height:1.2;'>⚃ + ⚁ = 4 + 2 = 6</div>\n",
       "    "
      ],
      "text/plain": [
       "<IPython.core.display.HTML object>"
      ]
     },
     "metadata": {},
     "output_type": "display_data"
    },
    {
     "data": {
      "text/html": [
       "\n",
       "    <div style='font-size:28px; line-height:1.2;'>⚀ + ⚅ = 1 + 6 = 7</div>\n",
       "    "
      ],
      "text/plain": [
       "<IPython.core.display.HTML object>"
      ]
     },
     "metadata": {},
     "output_type": "display_data"
    },
    {
     "data": {
      "text/html": [
       "\n",
       "    <div style='font-size:28px; line-height:1.2;'>⚄ + ⚁ = 5 + 2 = 7</div>\n",
       "    "
      ],
      "text/plain": [
       "<IPython.core.display.HTML object>"
      ]
     },
     "metadata": {},
     "output_type": "display_data"
    },
    {
     "data": {
      "text/html": [
       "\n",
       "    <div style='font-size:28px; line-height:1.2;'>⚅ + ⚂ = 6 + 3 = 9</div>\n",
       "    "
      ],
      "text/plain": [
       "<IPython.core.display.HTML object>"
      ]
     },
     "metadata": {},
     "output_type": "display_data"
    },
    {
     "data": {
      "text/html": [
       "\n",
       "    <div style='font-size:28px; line-height:1.2;'>⚂ + ⚂ = 3 + 3 = 6</div>\n",
       "    "
      ],
      "text/plain": [
       "<IPython.core.display.HTML object>"
      ]
     },
     "metadata": {},
     "output_type": "display_data"
    },
    {
     "data": {
      "text/html": [
       "\n",
       "    <div style='font-size:28px; line-height:1.2;'>⚄ + ⚁ = 5 + 2 = 7</div>\n",
       "    "
      ],
      "text/plain": [
       "<IPython.core.display.HTML object>"
      ]
     },
     "metadata": {},
     "output_type": "display_data"
    },
    {
     "data": {
      "text/html": [
       "\n",
       "    <div style='font-size:28px; line-height:1.2;'>⚃ + ⚃ = 4 + 4 = 8</div>\n",
       "    "
      ],
      "text/plain": [
       "<IPython.core.display.HTML object>"
      ]
     },
     "metadata": {},
     "output_type": "display_data"
    },
    {
     "data": {
      "text/html": [
       "\n",
       "    <div style='font-size:28px; line-height:1.2;'>⚀ + ⚅ = 1 + 6 = 7</div>\n",
       "    "
      ],
      "text/plain": [
       "<IPython.core.display.HTML object>"
      ]
     },
     "metadata": {},
     "output_type": "display_data"
    },
    {
     "data": {
      "text/html": [
       "\n",
       "    <div style='font-size:28px; line-height:1.2;'>⚂ + ⚅ = 3 + 6 = 9</div>\n",
       "    "
      ],
      "text/plain": [
       "<IPython.core.display.HTML object>"
      ]
     },
     "metadata": {},
     "output_type": "display_data"
    },
    {
     "data": {
      "text/html": [
       "\n",
       "    <div style='font-size:28px; line-height:1.2;'>⚀ + ⚄ = 1 + 5 = 6</div>\n",
       "    "
      ],
      "text/plain": [
       "<IPython.core.display.HTML object>"
      ]
     },
     "metadata": {},
     "output_type": "display_data"
    },
    {
     "data": {
      "text/html": [
       "\n",
       "    <div style='font-size:28px; line-height:1.2;'>⚁ + ⚀ = 2 + 1 = 3</div>\n",
       "    "
      ],
      "text/plain": [
       "<IPython.core.display.HTML object>"
      ]
     },
     "metadata": {},
     "output_type": "display_data"
    },
    {
     "data": {
      "text/html": [
       "\n",
       "    <div style='font-size:28px; line-height:1.2;'>⚀ + ⚂ = 1 + 3 = 4</div>\n",
       "    "
      ],
      "text/plain": [
       "<IPython.core.display.HTML object>"
      ]
     },
     "metadata": {},
     "output_type": "display_data"
    },
    {
     "data": {
      "text/html": [
       "\n",
       "    <div style='font-size:28px; line-height:1.2;'>⚄ + ⚅ = 5 + 6 = 11</div>\n",
       "    "
      ],
      "text/plain": [
       "<IPython.core.display.HTML object>"
      ]
     },
     "metadata": {},
     "output_type": "display_data"
    },
    {
     "data": {
      "text/html": [
       "\n",
       "    <div style='font-size:28px; line-height:1.2;'>⚂ + ⚀ = 3 + 1 = 4</div>\n",
       "    "
      ],
      "text/plain": [
       "<IPython.core.display.HTML object>"
      ]
     },
     "metadata": {},
     "output_type": "display_data"
    },
    {
     "data": {
      "text/html": [
       "\n",
       "    <div style='font-size:28px; line-height:1.2;'>⚄ + ⚃ = 5 + 4 = 9</div>\n",
       "    "
      ],
      "text/plain": [
       "<IPython.core.display.HTML object>"
      ]
     },
     "metadata": {},
     "output_type": "display_data"
    },
    {
     "data": {
      "text/html": [
       "\n",
       "    <div style='font-size:28px; line-height:1.2;'>⚂ + ⚁ = 3 + 2 = 5</div>\n",
       "    "
      ],
      "text/plain": [
       "<IPython.core.display.HTML object>"
      ]
     },
     "metadata": {},
     "output_type": "display_data"
    },
    {
     "name": "stdout",
     "output_type": "stream",
     "text": [
      "\n",
      "--- 100 tosses completed ---\n",
      "\n",
      "✅ Task 2 complete: Dice toss simulation finished.\n"
     ]
    }
   ],
   "source": [
    "print(\"\\nSimulating 100 dice tosses with visual output:\")\n",
    "\n",
    "for i in range(trials):\n",
    "    die1 = random.randint(1, 6)\n",
    "    die2 = random.randint(1, 6)\n",
    "    tosses.append([die1, die2])\n",
    "    dice_sum = die1 + die2\n",
    "    if dice_sum == user_input:\n",
    "        target_sum_count += 1\n",
    "\n",
    "    # Print dice face and sum expression\n",
    "    display_medium_dice(die1, die2)\n",
    "\n",
    "    if (i + 1) % 25 == 0:\n",
    "        print(f\"\\n--- {i + 1} tosses completed ---\\n\")\n",
    "\n",
    "print(\"✅ Task 2 complete: Dice toss simulation finished.\")"
   ]
  },
  {
   "cell_type": "markdown",
   "id": "b02f248b",
   "metadata": {},
   "source": [
    "## === Task 3: Calculate and print results ==="
   ]
  },
  {
   "cell_type": "code",
   "execution_count": 14,
   "id": "024ce500",
   "metadata": {},
   "outputs": [
    {
     "name": "stdout",
     "output_type": "stream",
     "text": [
      "\n",
      "=== Simulation Results ===\n",
      "Target sum: 8\n",
      "Occurrences of target sum: 14\n",
      "Probability of the sum equal to 8 in decimal: 0.14\n",
      "Probability as a fraction: 7/50\n"
     ]
    }
   ],
   "source": [
    "probability = round(target_sum_count / trials, 2)\n",
    "print(f\"\\n=== Simulation Results ===\")\n",
    "print(f\"Target sum: {user_input}\")\n",
    "print(f\"Occurrences of target sum: {target_sum_count}\")\n",
    "print(f\"Probability of the sum equal to {user_input} in decimal: {probability}\")\n",
    "print(f\"Probability as a fraction: {Fraction(target_sum_count, trials)}\")"
   ]
  },
  {
   "cell_type": "markdown",
   "id": "5dafa63f",
   "metadata": {},
   "source": [
    "__=== REFERENCE ===__   \n",
    "OpenAI. (2025). ChatGPT’s assistance with DS623 PE07 - Probability of Dice Sum Simulation [Large language model]. https://openai.com/chatgpt"
   ]
  }
 ],
 "metadata": {
  "kernelspec": {
   "display_name": "Python 3",
   "language": "python",
   "name": "python3"
  },
  "language_info": {
   "codemirror_mode": {
    "name": "ipython",
    "version": 3
   },
   "file_extension": ".py",
   "mimetype": "text/x-python",
   "name": "python",
   "nbconvert_exporter": "python",
   "pygments_lexer": "ipython3",
   "version": "3.11.9"
  }
 },
 "nbformat": 4,
 "nbformat_minor": 5
}
