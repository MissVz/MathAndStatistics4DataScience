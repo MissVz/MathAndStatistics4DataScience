{
 "cells": [
  {
   "cell_type": "markdown",
   "id": "8ec273c0",
   "metadata": {},
   "source": [
    "# DS623 PE08 Sumary Statistics of a Dataframe"
   ]
  },
  {
   "cell_type": "markdown",
   "id": "2e841772",
   "metadata": {},
   "source": [
    "Student: Verónica Elze"
   ]
  },
  {
   "cell_type": "markdown",
   "id": "1cf62e1e",
   "metadata": {},
   "source": [
    "## Imports"
   ]
  },
  {
   "cell_type": "code",
   "execution_count": 1,
   "id": "a6c63425",
   "metadata": {},
   "outputs": [],
   "source": [
    "import pandas as pd\n",
    "import numpy as np"
   ]
  },
  {
   "cell_type": "markdown",
   "id": "ab4845c3",
   "metadata": {},
   "source": [
    "## Create Dataframe"
   ]
  },
  {
   "cell_type": "code",
   "execution_count": 2,
   "id": "42eea635",
   "metadata": {},
   "outputs": [
    {
     "data": {
      "text/html": [
       "<div>\n",
       "<style scoped>\n",
       "    .dataframe tbody tr th:only-of-type {\n",
       "        vertical-align: middle;\n",
       "    }\n",
       "\n",
       "    .dataframe tbody tr th {\n",
       "        vertical-align: top;\n",
       "    }\n",
       "\n",
       "    .dataframe thead th {\n",
       "        text-align: right;\n",
       "    }\n",
       "</style>\n",
       "<table border=\"1\" class=\"dataframe\">\n",
       "  <thead>\n",
       "    <tr style=\"text-align: right;\">\n",
       "      <th></th>\n",
       "      <th>height (in)</th>\n",
       "      <th>weight (lbs)</th>\n",
       "      <th>age (yrs)</th>\n",
       "    </tr>\n",
       "  </thead>\n",
       "  <tbody>\n",
       "    <tr>\n",
       "      <th>0</th>\n",
       "      <td>68</td>\n",
       "      <td>158</td>\n",
       "      <td>51</td>\n",
       "    </tr>\n",
       "    <tr>\n",
       "      <th>1</th>\n",
       "      <td>65</td>\n",
       "      <td>164</td>\n",
       "      <td>48</td>\n",
       "    </tr>\n",
       "    <tr>\n",
       "      <th>2</th>\n",
       "      <td>62</td>\n",
       "      <td>172</td>\n",
       "      <td>55</td>\n",
       "    </tr>\n",
       "    <tr>\n",
       "      <th>3</th>\n",
       "      <td>61</td>\n",
       "      <td>136</td>\n",
       "      <td>52</td>\n",
       "    </tr>\n",
       "    <tr>\n",
       "      <th>4</th>\n",
       "      <td>65</td>\n",
       "      <td>155</td>\n",
       "      <td>49</td>\n",
       "    </tr>\n",
       "  </tbody>\n",
       "</table>\n",
       "</div>"
      ],
      "text/plain": [
       "   height (in)  weight (lbs)  age (yrs)\n",
       "0           68           158         51\n",
       "1           65           164         48\n",
       "2           62           172         55\n",
       "3           61           136         52\n",
       "4           65           155         49"
      ]
     },
     "execution_count": 2,
     "metadata": {},
     "output_type": "execute_result"
    }
   ],
   "source": [
    "# Set seed for reproducibility\n",
    "np.random.seed(42)\n",
    "\n",
    "# Create realistic sample data of women\n",
    "age = np.random.randint(45, 56, size=10)          # Ages 45 to 55\n",
    "height = np.random.randint(58, 70, size=10)       # Heights 58 to 69 inches\n",
    "weight = np.random.randint(135, 176, size=10)     # Weights 135 to 175 lbs\n",
    "\n",
    "# Create DataFrame\n",
    "df = pd.DataFrame({\n",
    "    'height (in)': height,\n",
    "    'weight (lbs)': weight,\n",
    "    'age (yrs)': age\n",
    "})\n",
    "\n",
    "df.head()"
   ]
  },
  {
   "cell_type": "markdown",
   "id": "bfa97a03",
   "metadata": {},
   "source": [
    "## Mean Function"
   ]
  },
  {
   "cell_type": "code",
   "execution_count": 3,
   "id": "0b4518f3",
   "metadata": {},
   "outputs": [],
   "source": [
    "# Function to compute mean\n",
    "def compute_mean(series):\n",
    "    return sum(series) / len(series)"
   ]
  },
  {
   "cell_type": "markdown",
   "id": "af56efee",
   "metadata": {},
   "source": [
    "## Variance Function"
   ]
  },
  {
   "cell_type": "code",
   "execution_count": 4,
   "id": "6d34625f",
   "metadata": {},
   "outputs": [],
   "source": [
    "# Function to compute variance (sample variance with ddof=1)\n",
    "def compute_variance(series):\n",
    "    mean = compute_mean(series)\n",
    "    \n",
    "    # Sanity check: print squared differences\n",
    "    print(f\"\\nSanity Check for {series.name}:\\nMean = {mean}\")\n",
    "    for x in series:\n",
    "        diff_squared = (x - mean) ** 2\n",
    "        print(f\"Value: {x}, (x - mean)^2: {diff_squared}\")\n",
    "    \n",
    "    return sum((x - mean) ** 2 for x in series) / (len(series) - 1)"
   ]
  },
  {
   "cell_type": "markdown",
   "id": "29f099cd",
   "metadata": {},
   "source": [
    "## Computation of Mean & Variance"
   ]
  },
  {
   "cell_type": "code",
   "execution_count": 5,
   "id": "3ccc9447",
   "metadata": {},
   "outputs": [
    {
     "name": "stdout",
     "output_type": "stream",
     "text": [
      "\n",
      "Sanity Check for height (in):\n",
      "Mean = 63.0\n",
      "Value: 68, (x - mean)^2: 25.0\n",
      "Value: 65, (x - mean)^2: 4.0\n",
      "Value: 62, (x - mean)^2: 1.0\n",
      "Value: 61, (x - mean)^2: 4.0\n",
      "Value: 65, (x - mean)^2: 4.0\n",
      "Value: 65, (x - mean)^2: 4.0\n",
      "Value: 60, (x - mean)^2: 9.0\n",
      "Value: 63, (x - mean)^2: 0.0\n",
      "Value: 62, (x - mean)^2: 1.0\n",
      "Value: 59, (x - mean)^2: 16.0\n",
      "\n",
      "Sanity Check for weight (lbs):\n",
      "Mean = 157.4\n",
      "Value: 158, (x - mean)^2: 0.35999999999999316\n",
      "Value: 164, (x - mean)^2: 43.559999999999924\n",
      "Value: 172, (x - mean)^2: 213.15999999999983\n",
      "Value: 136, (x - mean)^2: 457.96000000000026\n",
      "Value: 155, (x - mean)^2: 5.760000000000027\n",
      "Value: 167, (x - mean)^2: 92.1599999999999\n",
      "Value: 146, (x - mean)^2: 129.96000000000012\n",
      "Value: 156, (x - mean)^2: 1.960000000000016\n",
      "Value: 159, (x - mean)^2: 2.559999999999982\n",
      "Value: 161, (x - mean)^2: 12.959999999999958\n",
      "\n",
      "Sanity Check for age (yrs):\n",
      "Mean = 51.3\n",
      "Value: 51, (x - mean)^2: 0.08999999999999829\n",
      "Value: 48, (x - mean)^2: 10.889999999999981\n",
      "Value: 55, (x - mean)^2: 13.69000000000002\n",
      "Value: 52, (x - mean)^2: 0.490000000000004\n",
      "Value: 49, (x - mean)^2: 5.289999999999987\n",
      "Value: 51, (x - mean)^2: 0.08999999999999829\n",
      "Value: 54, (x - mean)^2: 7.290000000000015\n",
      "Value: 47, (x - mean)^2: 18.489999999999977\n",
      "Value: 51, (x - mean)^2: 0.08999999999999829\n",
      "Value: 55, (x - mean)^2: 13.69000000000002\n"
     ]
    }
   ],
   "source": [
    "# Compute and display results\n",
    "results = {}\n",
    "for column in df.columns:\n",
    "    mean = compute_mean(df[column])\n",
    "    var = compute_variance(df[column])\n",
    "    results[column] = {'mean': round(mean, 4), 'variance': round(var, 4)}"
   ]
  },
  {
   "cell_type": "markdown",
   "id": "f030338e",
   "metadata": {},
   "source": [
    "## Output"
   ]
  },
  {
   "cell_type": "code",
   "execution_count": 6,
   "id": "b3714e81",
   "metadata": {},
   "outputs": [
    {
     "name": "stdout",
     "output_type": "stream",
     "text": [
      "Summary Statistics (using formulas and rounded to 4 decimal places):\n",
      "Height (in) - Mean: 63.0, Variance: 7.5556\n",
      "Weight (lbs) - Mean: 157.4, Variance: 106.7111\n",
      "Age (yrs) - Mean: 51.3, Variance: 7.7889\n"
     ]
    }
   ],
   "source": [
    "print(\"Summary Statistics (using formulas and rounded to 4 decimal places):\")\n",
    "for var in results:\n",
    "    print(f\"{var.capitalize()} - Mean: {results[var]['mean']}, Variance: {results[var]['variance']}\")"
   ]
  },
  {
   "cell_type": "markdown",
   "id": "5d44a2d9",
   "metadata": {},
   "source": [
    "## Covariance Matrix (optional)"
   ]
  },
  {
   "cell_type": "code",
   "execution_count": 7,
   "id": "b80b890c",
   "metadata": {},
   "outputs": [],
   "source": [
    "# Function to compute covariance matrix manually\n",
    "def compute_covariance_matrix(df):\n",
    "    columns = df.columns\n",
    "    cov_matrix = np.zeros((len(columns), len(columns)))\n",
    "    for i in range(len(columns)):\n",
    "        for j in range(len(columns)):\n",
    "            xi = df[columns[i]]\n",
    "            xj = df[columns[j]]\n",
    "            mean_xi = compute_mean(xi)\n",
    "            mean_xj = compute_mean(xj)\n",
    "            cov = sum((xi[k] - mean_xi) * (xj[k] - mean_xj) for k in range(len(xi))) / (len(xi) - 1)\n",
    "            cov_matrix[i][j] = cov\n",
    "    return pd.DataFrame(cov_matrix, columns=columns, index=columns)"
   ]
  },
  {
   "cell_type": "code",
   "execution_count": 8,
   "id": "fb555bcf",
   "metadata": {},
   "outputs": [
    {
     "name": "stdout",
     "output_type": "stream",
     "text": [
      "\n",
      "Covariance Matrix (rounded to 4 decimal places):\n",
      "              height (in)  weight (lbs)  age (yrs)\n",
      "height (in)      7.555556      8.555556  -4.555556\n",
      "weight (lbs)     8.555556    106.711111   0.866667\n",
      "age (yrs)       -4.555556      0.866667   7.788889\n"
     ]
    }
   ],
   "source": [
    "# Covariance matrix\n",
    "cov_matrix = compute_covariance_matrix(df)\n",
    "formatted_cov_matrix = cov_matrix.round(4)\n",
    "\n",
    "print(\"\\nCovariance Matrix (rounded to 4 decimal places):\")\n",
    "print(cov_matrix)"
   ]
  }
 ],
 "metadata": {
  "kernelspec": {
   "display_name": "Python 3",
   "language": "python",
   "name": "python3"
  },
  "language_info": {
   "codemirror_mode": {
    "name": "ipython",
    "version": 3
   },
   "file_extension": ".py",
   "mimetype": "text/x-python",
   "name": "python",
   "nbconvert_exporter": "python",
   "pygments_lexer": "ipython3",
   "version": "3.11.9"
  }
 },
 "nbformat": 4,
 "nbformat_minor": 5
}
